{
 "cells": [
  {
   "cell_type": "markdown",
   "metadata": {},
   "source": [
    "Приветствую Олег! \n",
    "\n",
    "Меня зовут Александр Непомнящий и я буду проверять твой проект. Предлагаю общаться на «ты» :))) Но, если это не удобно - мы вполне можем перейти на вы\".\n",
    "\n",
    "Вкратце обо мне: я работаю в сфере информационных технологий, аналитика (анализ) данных - это и мой рабочий функционал и личная, интересная мне область для саморазвития. Используемый стек: python, pandas, графические библиотеки matplotlib/seaborn/plotly. Сфера применения: маркетинговая аналитика в медицинской клинике (Клиника «Кивач», www.kivach.ru, республика Карелия). Если вдруг есть вопрос – что делает аналитик в коммерческой медицине – то вот короткий ответ. Самый главный вопрос, на который мы хотим получить ответ (и который в дальнейшем приведёт к перераспределению рекламного бюджета, плюс напрямую повлияет на разработку и предложению рынку новых лечебных программ) - это КТО ОН, НАШ КЛИЕНТ? Фактически это задача (на нашем внутреннем языке формулируется как построение и анализ «ПОРТРЕТА КЛИЕНТА»). Визуализируем и пытаемся придать смысл половозрастным данным наших клиентов, кто из какого региона и в какие времена года к нам приезжает. Учитываем количество приездов. Учитываем на какую программу этот конкретный клиент приехал в первый раз и как в дальнейшем меняются его предпочтения. Пытаемся построить модель оттока и спрогнозировать, когда клиент уйдёт в отток. Смотрим цифры (суммы трат клиентов на отдельных группах медицинских программ). Анализируем медицинские услуги, которые входят в путёвку, а также что, в каких количествах и на какую сумму клиент покупает дополнительно. Очень вкратце как-то так.\n",
    "\n",
    "Теперь к сути: основная цель моей проверки - пройти по шагам, по логике твоего решения и обсудить те моменты, которые можно изменить, улучшить, довести до идеала. Такой формат работы двух программистов (аналитиков) ты или уже встречал(а), или встретишь на своей новой работе. Кто-то такой процесс называет \"код-ревью\", ну а как по мне, так это обмен опытом двух коллег, когда каждый из нас становиться лучше в процессе дискуссии.\n",
    "\n",
    "Свои мысли, советы, комментарии и вопросы я буду оставлять в текстовых ячейках (markdown) ПОД твоим кодом. \n",
    "Для твоего удобства все эти заметки будут \"цветными\", как на примерах ниже:\n",
    "\n",
    "\"Зелеными\" комментариями я буду отмечать твой элегантный (\"красивый\") код и/или удачные решения, на которые ты можешь смело опираться в будущих проектах.\n",
    "<div class=\"alert alert-success\">\n",
    "<b>Отлично! 👍</b>\n",
    "\n",
    "Отличная находка, элегантный код ...</div>\n",
    "\n",
    "\"Жёлтые\" комментарии - это мои размышления, предложения, что-то, что на следующей итерации можно сделать по-другому. Твоя реакция на \"жёлтые\" комментарий необходима и подразумевает или правки, или реакцию или аргументированное согласие/не согласие. Я искренне верю, что наш двусторонний диалог под \"желтым\" комментарием - это то, от чего твой проект только выиграет. <div class=\"alert alert-warning\">\n",
    "<b>Комментарий 👉</b>\n",
    "\n",
    "Здесь я бы предложил использовать .... Мои аргументы в пользу этого ...</div>\n",
    "\n",
    "\"Красные\" комментарий будут появляться, когда что-то пойдёт не так: например, код будет выдавать ошибку. Или, когда в проекте не будет ответов на основные вопросы, ради которых весь анализ и выполнялся. \"Красные\" комментарии необходимо будет исправить, прежде чем я смогу принять проект.\n",
    "<div class=\"alert alert-danger\">\n",
    "<b>Необходимо исправить ❌</b>\n",
    "\n",
    "В этой ячейке код работает не так как задумано ...</div>\n",
    "\n",
    "Пожалуйста, не перемещай, не изменяй и не удаляй мои комментарии. Это поможет мне оперативно выполнить повторную проверку твоего проекта.\n",
    "\n",
    "Давай работать над проектом в диалоге: если ты что-то меняешь в проекте по моим рекомендациям — пиши об этом, лучше всего в новой ячейке, сразу под моим комментарием. Если для своих комментариев ты будешь использовать какой-то заметный цвет, то мне будет легче отследить твои изменения, например так:\n",
    "\n",
    "<div style=\"background: #B0E0E6; padding: 5px; border: 1px solid SteelBlue; border-radius: 5px;\">\n",
    "    <font color='4682B4'><u><b>КОММЕНТАРИЙ СТУДЕНТА</b></u></font>\n",
    "    <br />\n",
    "    <font color='4682B4'>Текст твоего комментария ...</font>\n",
    "</div>\n",
    "\n",
    "Ну и наконец информируй меня в том случае, если по твоему проекту подходит дедлайн! В таком случае я приложу усилия, чтобы ты сдал(а) его вовремя; буду оперативно, в приоритете проверять итерации ревью, а также отвечать на твои вопросы, если этого будет требовать ситуация.\n",
    "\n",
    "**Распространенные типичные недочёты в проектах студентов:**\n",
    "\n",
    "<div class=\"alert alert-danger\" ❌>\n",
    "Неработоспособный код. Проверь проект на работоспособность перед отправкой на проверку. Это важный навык, который тебе пригодится как на собеседовании, при выполнении тестового задания, так и перед совещанием у руководства компании.</div>\n",
    "\n",
    "<div class=\"alert alert-danger\" ❌>\n",
    "Проект не структурирован. В проекте должна быть структура, т.е. названия разделов и подразделов должны быть записаны в ячейках Markdown.</div>\n",
    "\n",
    "<div class=\"alert alert-warning\" 👉 >\n",
    "Отсутствие описания, целей проекта, его задач, выводов. В описании должны быть озвучены поставленные задачи, содержание датасета, промежуточные и финальные выводы. Как правило, заказчик читает только финальный вывод, поэтому важно добавить информацию о проведенном исследовании, применить форматирование текста, в общем, сделать красиво, чтобы было понятно, что проведено настоящее исследование и выводу можно верить.</div>  \n",
    "\n",
    "<div class=\"alert alert-warning\" 👉 >\n",
    "\"Длинный код\". Код и и комментарии, которые прячутся за правым концом ячейки нужно переносить на новую строку. Твои будущие коллеги не оценят необходимость постоянного скроллинга. Согласно PEP8: https://www.python.org/dev/peps/pep-0008/ длина строки не должна превышать 79 символов.</div>\n",
    "\n",
    "<div class=\"alert alert-warning\" 👉 >\n",
    "Твои коллеги ценят и твое и своё время, поэтому \"подсвечивай\" свои комментарии в ячейках Markdown. Подробнее про синтаксис Markdown, с примерами, можно почитать здесь: https://paulradzkov.com/2014/markdown_cheatsheet/?</div>\n"
   ]
  },
  {
   "cell_type": "code",
   "execution_count": null,
   "metadata": {},
   "outputs": [],
   "source": []
  },
  {
   "cell_type": "markdown",
   "metadata": {},
   "source": [
    "##### Личный инструментарий"
   ]
  },
  {
   "cell_type": "code",
   "execution_count": 1,
   "metadata": {},
   "outputs": [],
   "source": [
    "# ГЛОБАЛЬНЫЕ ПЕРЕМЕННЫЕ\n"
   ]
  },
  {
   "cell_type": "code",
   "execution_count": 2,
   "metadata": {},
   "outputs": [],
   "source": [
    "# Функция импорта из *.csv\n",
    "def load_from_csv(source1, source2, path2='https://code.s3.yandex.net/datasets/', sep=','):\n",
    "    \"\"\"\n",
    "        Функция организации загрузки данных в датафрейм из файла *.csv\n",
    "        на входе:\n",
    "            source1 - путь + файл *.csv на локальном компьютере\n",
    "            source2 - файл *.csv\n",
    "            path2 - путь (по умолчанию 'https://code.s3.yandex.net/datasets/')\n",
    "            sep - разделитель (по умолчанию ',')\n",
    "        на выходе:\n",
    "            df (DataFrame)\n",
    "    \"\"\"\n",
    "    try:\n",
    "        df = pd.read_csv(source1, sep=sep)\n",
    "    except ValueError:\n",
    "        print('Fail - ValueError!')\n",
    "    except Exception:\n",
    "        print('Fail - загрузка из основного источника')\n",
    "        print('Попытка загрузки из резервного источника')\n",
    "        df = pd.read_csv(str(path2+source2), sep=sep)\n",
    "        print(f'OK - загрузка из резервного источника: \"{str(path2+source2)}\"')\n",
    "    else:\n",
    "        print(f'OK - загрузка из основного источника: \"{source1}\"')\n",
    "    finally:\n",
    "        print('Конец.') \n",
    "    return df\n",
    "\n",
    "#df = df.drop([''], axis=1)\n",
    "#df.drop(index=index_list, inplace=True)\n",
    "#df.to_csv('*.csv', index=False)"
   ]
  },
  {
   "cell_type": "code",
   "execution_count": 3,
   "metadata": {},
   "outputs": [],
   "source": [
    "def first_review(df): \n",
    "    \"\"\"\n",
    "    функция для отображения общей информации\n",
    "    \n",
    "    \"\"\"\n",
    "    display(df.head(5)), df.info(), display(df.describe())"
   ]
  },
  {
   "cell_type": "code",
   "execution_count": 4,
   "metadata": {},
   "outputs": [],
   "source": [
    "# функция вывода информации о столбце\n",
    "def column_value_test(ds, test='un'):\n",
    "    \"\"\"\n",
    "        Функция вывода информации о столбце\n",
    "        'un' - unique(); 'na' - isna(); 'du' - duplicated()\n",
    "    \"\"\"\n",
    "    if test == 'un':\n",
    "        return print(f'Кол-во уникальных значений в столбце: \"{ds.name}\": {len(ds.unique())}/{len(ds)}')\n",
    "    elif test == 'na':\n",
    "        return print(f'Кол-во пропущенных значений в столбце: \"{ds.name}\": {ds.isna().sum()}/{len(ds)}')\n",
    "    elif test == 'du':\n",
    "        return print(f'Кол-во дубликатов в столбце:\\n{ds.name}: {ds.duplicated().sum()}/{len(ds)}')\n",
    "    else:\n",
    "        return print(f'Error!')\n",
    "    \n",
    "#column_value_test(data.iloc[:, 0])\n",
    "#column_value_test(data.iloc[:, 0], test='na')\n",
    "#column_value_test(data.iloc[:, 0], test='du')"
   ]
  },
  {
   "cell_type": "code",
   "execution_count": 5,
   "metadata": {},
   "outputs": [],
   "source": [
    "# Функция дополнительного функционала для pd.hist() \n",
    "def grafix(df_hist, x_label='', y_label='', title=''):\n",
    "    for ax in df_hist.flatten():\n",
    "        ax.set_xlabel(x_label)\n",
    "        ax.set_ylabel(y_label)\n",
    "        ax.set_title(title)"
   ]
  },
  {
   "cell_type": "code",
   "execution_count": 6,
   "metadata": {},
   "outputs": [],
   "source": [
    "# Вывод датафреймов параллельно\n",
    "from IPython.display import display, HTML\n",
    "\n",
    "def display_side_by_side(dfs:list, captions:list):\n",
    "    \"\"\"Display tables side by side to save vertical space\n",
    "    Input:\n",
    "        dfs: list of pandas.DataFrame\n",
    "        captions: list of table captions\n",
    "    \"\"\"\n",
    "    output = \"\"\n",
    "    combined = dict(zip(captions, dfs))\n",
    "    for caption, df in combined.items():\n",
    "        output += df.style.format('{:.2f}').set_table_attributes(\"style='display:inline'\").set_caption(caption)._repr_html_()\n",
    "        output += \"\\xa0\\xa0\\xa0\"\n",
    "    display(HTML(output))"
   ]
  },
  {
   "cell_type": "code",
   "execution_count": 7,
   "metadata": {},
   "outputs": [],
   "source": [
    "def split_stratified_into_train_val_test(df_input, stratify_colname='y',\n",
    "                                         frac_train=0.6, frac_valid=0.2, frac_test=0.2,\n",
    "                                         random_state=12345, prnt=True):\n",
    "    '''\n",
    "    Splits a Pandas dataframe into three subsets (train, val, and test)\n",
    "    following fractional ratios provided by the user, where each subset is\n",
    "    stratified by the values in a specific column (that is, each subset has\n",
    "    the same relative frequency of the values in the column). It performs this\n",
    "    splitting by running train_test_split() twice.\n",
    "\n",
    "    Parameters\n",
    "    ----------\n",
    "    df_input : Pandas dataframe\n",
    "        Input dataframe to be split.\n",
    "    stratify_colname : str\n",
    "        The name of the column that will be used for stratification. Usually\n",
    "        this column would be for the label.\n",
    "    frac_train : float\n",
    "    frac_valid   : float\n",
    "    frac_test  : float\n",
    "        The ratios with which the dataframe will be split into train, val, and\n",
    "        test data. The values should be expressed as float fractions and should\n",
    "        sum to 1.0.\n",
    "    random_state : int, None, or RandomStateInstance\n",
    "        Value to be passed to train_test_split().\n",
    "\n",
    "    Returns\n",
    "    -------\n",
    "    df_train, df_val, df_test :\n",
    "        Dataframes containing the three splits.\n",
    "    '''\n",
    "\n",
    "    if frac_train + frac_valid + frac_test != 1.0:\n",
    "        raise ValueError('fractions %f, %f, %f do not add up to 1.0' % \\\n",
    "                         (frac_train, frac_valid, frac_test))\n",
    "\n",
    "    if stratify_colname not in df_input.columns:\n",
    "        raise ValueError('%s is not a column in the dataframe' % (stratify_colname))\n",
    "\n",
    "    X = df_input.drop([stratify_colname], axis=1) # Contains dataframe without stratify column\n",
    "    y = df_input[[stratify_colname]] # Dataframe of just the column on which to stratify.\n",
    "\n",
    "    # Split original dataframe into train and temp dataframes.\n",
    "    df_train, df_temp, y_train, y_temp = train_test_split(X,\n",
    "                                                          y,\n",
    "                                                          stratify=y,\n",
    "                                                          test_size=(1.0 - frac_train),\n",
    "                                                          random_state=random_state)\n",
    "\n",
    "    # Split the temp dataframe into val and test dataframes.\n",
    "    relative_frac_test = frac_test / (frac_valid + frac_test)\n",
    "    df_valid, df_test, y_valid, y_test = train_test_split(df_temp,\n",
    "                                                          y_temp,\n",
    "                                                          stratify=y_temp,\n",
    "                                                          test_size=relative_frac_test,\n",
    "                                                          random_state=random_state)\n",
    "\n",
    "    assert len(df_input) == len(df_train) + len(df_valid) + len(df_test)\n",
    "\n",
    "    if prnt:\n",
    "        print('dataframe:', df_input.shape)\n",
    "        print('features_train:', df_train.shape)\n",
    "        print('features_valid:', df_valid.shape)\n",
    "        print('features_test:', df_test.shape)\n",
    "        print('target_train:', y_train.shape)\n",
    "        print('target_valid:', y_valid.shape)\n",
    "        print('target_test:', y_test.shape)\n",
    "        \n",
    "    return df_train, df_valid, df_test, y_train, y_valid, y_test"
   ]
  },
  {
   "cell_type": "markdown",
   "metadata": {},
   "source": [
    "<div class=\"alert alert-success\">\n",
    "<b>ОТЛИЧНО! 👍</b>\n",
    "\n",
    "ОГО Олег! КРУУУУТО! Это наверное 3 или 4 раз за 1+ год работы в Я. я вижу коллегу, который пользуется собственноручно разработанным инструментарием. МОЛОДЕЦ!\n",
    "</div>"
   ]
  },
  {
   "cell_type": "code",
   "execution_count": null,
   "metadata": {},
   "outputs": [],
   "source": []
  },
  {
   "cell_type": "markdown",
   "metadata": {},
   "source": [
    "# Рекомендация тарифов"
   ]
  },
  {
   "cell_type": "markdown",
   "metadata": {},
   "source": [
    "В вашем распоряжении данные о поведении клиентов, которые уже перешли на эти тарифы (из проекта курса «Статистический анализ данных»). Нужно построить модель для задачи классификации, которая предугадает подходящий тариф для клиента. Предобработка данных не понадобится — вы её уже сделали.\n",
    "\n",
    "Постройте модель с максимально большим значением *accuracy*. Чтобы сдать проект успешно, нужно довести долю правильных ответов по крайней мере до 0.75. Проверьте *accuracy* на тестовой выборке самостоятельно.\n",
    "\n",
    "**Объект исследования** — клиенты мобильного оператора \"Мегалайн\".\n",
    "\n",
    "**Цель исследования** — разработать модель предикции выбора тарифа клиентом с точностью не менее 0.75.\n",
    "\n",
    "**План исследования:** \n",
    "\n",
    "\n",
    "    I. Загрузка и обзор данных из файла *.csv.\n",
    "    II. Подготовка наработанного ранее личного инструментария.\n",
    "    1. Разделение исходных данных на обучающую, валидационную и тестовую выборки.\n",
    "    2. Подготовка и исследование качества разных моделей при изменении гиперпараметров. Краткий вывод.\n",
    "    3. Проверка моделей на тестовой выборке.\n",
    "    4. Проверка моделей на адекватность.\n",
    "    III. Общий вывод.\n",
    "    \n",
    "    \n",
    "**Описание данных:**\n",
    "\n",
    "Каждый объект в наборе данных — это информация о поведении одного пользователя за месяц. Известно:\n",
    "\n",
    "    сalls — количество звонков,\n",
    "    minutes — суммарная длительность звонков в минутах,\n",
    "    messages — количество sms-сообщений,\n",
    "    mb_used — израсходованный интернет-трафик в Мб,\n",
    "    is_ultra — каким тарифом пользовался в течение месяца («Ультра» — 1, «Смарт» — 0)."
   ]
  },
  {
   "cell_type": "markdown",
   "metadata": {},
   "source": [
    "## Откройте и изучите файл"
   ]
  },
  {
   "cell_type": "code",
   "execution_count": 8,
   "metadata": {},
   "outputs": [],
   "source": [
    "# импорт библиотек\n",
    "import pandas as pd\n",
    "import matplotlib.pyplot as plt\n",
    "from tqdm import tqdm\n",
    "\n",
    "from sklearn.model_selection import train_test_split\n",
    "from sklearn.linear_model import LogisticRegression\n",
    "from sklearn.linear_model import LinearRegression\n",
    "from sklearn.ensemble import RandomForestClassifier\n",
    "from sklearn.ensemble import RandomForestRegressor\n",
    "from sklearn.tree import DecisionTreeClassifier\n",
    "from sklearn.tree import DecisionTreeRegressor\n",
    "from sklearn.model_selection import GridSearchCV\n",
    "from tqdm.notebook import tqdm, trange\n",
    "from sklearn.tree import DecisionTreeRegressor\n",
    "from sklearn.metrics import mean_squared_error\n",
    "from joblib import dump\n",
    "from sklearn.metrics import accuracy_score\n",
    "from sklearn.dummy import DummyClassifier\n",
    "from sklearn.dummy import DummyRegressor\n",
    "from sklearn.metrics import confusion_matrix"
   ]
  },
  {
   "cell_type": "code",
   "execution_count": 9,
   "metadata": {},
   "outputs": [],
   "source": [
    "# настройки отображения данных\n",
    "#matplotlib.rcParams.update({'font.size': 12})\n",
    "pd.options.display.max_columns = 100\n",
    "pd.options.display.max_rows = 100"
   ]
  },
  {
   "cell_type": "code",
   "execution_count": 10,
   "metadata": {},
   "outputs": [
    {
     "name": "stdout",
     "output_type": "stream",
     "text": [
      "OK - загрузка из основного источника: \"./datasets/users_behavior.csv\"\n",
      "Конец.\n"
     ]
    }
   ],
   "source": [
    "data = load_from_csv(source1='./datasets/users_behavior.csv', source2='users_behavior.csv', sep=',')"
   ]
  },
  {
   "cell_type": "markdown",
   "metadata": {},
   "source": [
    "<div class=\"alert alert-success\">\n",
    "<b>ОТЛИЧНО! 👍</b>\n",
    "\n",
    "Отлично. Импортировали требуемые для анализа библиотеки и загрузили данные. Сейчас посмотрим на их состояние и если всё ОК, сможем приступать к построению моделей....\n",
    "</div>"
   ]
  },
  {
   "cell_type": "markdown",
   "metadata": {},
   "source": [
    "### Первый \"взгляд\""
   ]
  },
  {
   "cell_type": "code",
   "execution_count": 11,
   "metadata": {},
   "outputs": [
    {
     "data": {
      "text/html": [
       "<div>\n",
       "<style scoped>\n",
       "    .dataframe tbody tr th:only-of-type {\n",
       "        vertical-align: middle;\n",
       "    }\n",
       "\n",
       "    .dataframe tbody tr th {\n",
       "        vertical-align: top;\n",
       "    }\n",
       "\n",
       "    .dataframe thead th {\n",
       "        text-align: right;\n",
       "    }\n",
       "</style>\n",
       "<table border=\"1\" class=\"dataframe\">\n",
       "  <thead>\n",
       "    <tr style=\"text-align: right;\">\n",
       "      <th></th>\n",
       "      <th>calls</th>\n",
       "      <th>minutes</th>\n",
       "      <th>messages</th>\n",
       "      <th>mb_used</th>\n",
       "      <th>is_ultra</th>\n",
       "    </tr>\n",
       "  </thead>\n",
       "  <tbody>\n",
       "    <tr>\n",
       "      <th>0</th>\n",
       "      <td>40.0</td>\n",
       "      <td>311.90</td>\n",
       "      <td>83.0</td>\n",
       "      <td>19915.42</td>\n",
       "      <td>0</td>\n",
       "    </tr>\n",
       "    <tr>\n",
       "      <th>1</th>\n",
       "      <td>85.0</td>\n",
       "      <td>516.75</td>\n",
       "      <td>56.0</td>\n",
       "      <td>22696.96</td>\n",
       "      <td>0</td>\n",
       "    </tr>\n",
       "    <tr>\n",
       "      <th>2</th>\n",
       "      <td>77.0</td>\n",
       "      <td>467.66</td>\n",
       "      <td>86.0</td>\n",
       "      <td>21060.45</td>\n",
       "      <td>0</td>\n",
       "    </tr>\n",
       "    <tr>\n",
       "      <th>3</th>\n",
       "      <td>106.0</td>\n",
       "      <td>745.53</td>\n",
       "      <td>81.0</td>\n",
       "      <td>8437.39</td>\n",
       "      <td>1</td>\n",
       "    </tr>\n",
       "    <tr>\n",
       "      <th>4</th>\n",
       "      <td>66.0</td>\n",
       "      <td>418.74</td>\n",
       "      <td>1.0</td>\n",
       "      <td>14502.75</td>\n",
       "      <td>0</td>\n",
       "    </tr>\n",
       "  </tbody>\n",
       "</table>\n",
       "</div>"
      ],
      "text/plain": [
       "   calls  minutes  messages   mb_used  is_ultra\n",
       "0   40.0   311.90      83.0  19915.42         0\n",
       "1   85.0   516.75      56.0  22696.96         0\n",
       "2   77.0   467.66      86.0  21060.45         0\n",
       "3  106.0   745.53      81.0   8437.39         1\n",
       "4   66.0   418.74       1.0  14502.75         0"
      ]
     },
     "metadata": {},
     "output_type": "display_data"
    },
    {
     "name": "stdout",
     "output_type": "stream",
     "text": [
      "<class 'pandas.core.frame.DataFrame'>\n",
      "RangeIndex: 3214 entries, 0 to 3213\n",
      "Data columns (total 5 columns):\n",
      " #   Column    Non-Null Count  Dtype  \n",
      "---  ------    --------------  -----  \n",
      " 0   calls     3214 non-null   float64\n",
      " 1   minutes   3214 non-null   float64\n",
      " 2   messages  3214 non-null   float64\n",
      " 3   mb_used   3214 non-null   float64\n",
      " 4   is_ultra  3214 non-null   int64  \n",
      "dtypes: float64(4), int64(1)\n",
      "memory usage: 125.7 KB\n"
     ]
    },
    {
     "data": {
      "text/html": [
       "<div>\n",
       "<style scoped>\n",
       "    .dataframe tbody tr th:only-of-type {\n",
       "        vertical-align: middle;\n",
       "    }\n",
       "\n",
       "    .dataframe tbody tr th {\n",
       "        vertical-align: top;\n",
       "    }\n",
       "\n",
       "    .dataframe thead th {\n",
       "        text-align: right;\n",
       "    }\n",
       "</style>\n",
       "<table border=\"1\" class=\"dataframe\">\n",
       "  <thead>\n",
       "    <tr style=\"text-align: right;\">\n",
       "      <th></th>\n",
       "      <th>calls</th>\n",
       "      <th>minutes</th>\n",
       "      <th>messages</th>\n",
       "      <th>mb_used</th>\n",
       "      <th>is_ultra</th>\n",
       "    </tr>\n",
       "  </thead>\n",
       "  <tbody>\n",
       "    <tr>\n",
       "      <th>count</th>\n",
       "      <td>3214.000000</td>\n",
       "      <td>3214.000000</td>\n",
       "      <td>3214.000000</td>\n",
       "      <td>3214.000000</td>\n",
       "      <td>3214.000000</td>\n",
       "    </tr>\n",
       "    <tr>\n",
       "      <th>mean</th>\n",
       "      <td>63.038892</td>\n",
       "      <td>438.208787</td>\n",
       "      <td>38.281269</td>\n",
       "      <td>17207.673836</td>\n",
       "      <td>0.306472</td>\n",
       "    </tr>\n",
       "    <tr>\n",
       "      <th>std</th>\n",
       "      <td>33.236368</td>\n",
       "      <td>234.569872</td>\n",
       "      <td>36.148326</td>\n",
       "      <td>7570.968246</td>\n",
       "      <td>0.461100</td>\n",
       "    </tr>\n",
       "    <tr>\n",
       "      <th>min</th>\n",
       "      <td>0.000000</td>\n",
       "      <td>0.000000</td>\n",
       "      <td>0.000000</td>\n",
       "      <td>0.000000</td>\n",
       "      <td>0.000000</td>\n",
       "    </tr>\n",
       "    <tr>\n",
       "      <th>25%</th>\n",
       "      <td>40.000000</td>\n",
       "      <td>274.575000</td>\n",
       "      <td>9.000000</td>\n",
       "      <td>12491.902500</td>\n",
       "      <td>0.000000</td>\n",
       "    </tr>\n",
       "    <tr>\n",
       "      <th>50%</th>\n",
       "      <td>62.000000</td>\n",
       "      <td>430.600000</td>\n",
       "      <td>30.000000</td>\n",
       "      <td>16943.235000</td>\n",
       "      <td>0.000000</td>\n",
       "    </tr>\n",
       "    <tr>\n",
       "      <th>75%</th>\n",
       "      <td>82.000000</td>\n",
       "      <td>571.927500</td>\n",
       "      <td>57.000000</td>\n",
       "      <td>21424.700000</td>\n",
       "      <td>1.000000</td>\n",
       "    </tr>\n",
       "    <tr>\n",
       "      <th>max</th>\n",
       "      <td>244.000000</td>\n",
       "      <td>1632.060000</td>\n",
       "      <td>224.000000</td>\n",
       "      <td>49745.730000</td>\n",
       "      <td>1.000000</td>\n",
       "    </tr>\n",
       "  </tbody>\n",
       "</table>\n",
       "</div>"
      ],
      "text/plain": [
       "             calls      minutes     messages       mb_used     is_ultra\n",
       "count  3214.000000  3214.000000  3214.000000   3214.000000  3214.000000\n",
       "mean     63.038892   438.208787    38.281269  17207.673836     0.306472\n",
       "std      33.236368   234.569872    36.148326   7570.968246     0.461100\n",
       "min       0.000000     0.000000     0.000000      0.000000     0.000000\n",
       "25%      40.000000   274.575000     9.000000  12491.902500     0.000000\n",
       "50%      62.000000   430.600000    30.000000  16943.235000     0.000000\n",
       "75%      82.000000   571.927500    57.000000  21424.700000     1.000000\n",
       "max     244.000000  1632.060000   224.000000  49745.730000     1.000000"
      ]
     },
     "metadata": {},
     "output_type": "display_data"
    }
   ],
   "source": [
    "first_review(data)"
   ]
  },
  {
   "cell_type": "code",
   "execution_count": 12,
   "metadata": {},
   "outputs": [
    {
     "data": {
      "text/html": [
       "<div>\n",
       "<style scoped>\n",
       "    .dataframe tbody tr th:only-of-type {\n",
       "        vertical-align: middle;\n",
       "    }\n",
       "\n",
       "    .dataframe tbody tr th {\n",
       "        vertical-align: top;\n",
       "    }\n",
       "\n",
       "    .dataframe thead th {\n",
       "        text-align: right;\n",
       "    }\n",
       "</style>\n",
       "<table border=\"1\" class=\"dataframe\">\n",
       "  <thead>\n",
       "    <tr style=\"text-align: right;\">\n",
       "      <th></th>\n",
       "      <th>calls</th>\n",
       "      <th>minutes</th>\n",
       "      <th>messages</th>\n",
       "      <th>mb_used</th>\n",
       "      <th>is_ultra</th>\n",
       "    </tr>\n",
       "  </thead>\n",
       "  <tbody>\n",
       "    <tr>\n",
       "      <th>calls</th>\n",
       "      <td>1.000000</td>\n",
       "      <td>0.978684</td>\n",
       "      <td>0.155032</td>\n",
       "      <td>0.253886</td>\n",
       "      <td>0.160549</td>\n",
       "    </tr>\n",
       "    <tr>\n",
       "      <th>minutes</th>\n",
       "      <td>0.978684</td>\n",
       "      <td>1.000000</td>\n",
       "      <td>0.153784</td>\n",
       "      <td>0.248818</td>\n",
       "      <td>0.159991</td>\n",
       "    </tr>\n",
       "    <tr>\n",
       "      <th>messages</th>\n",
       "      <td>0.155032</td>\n",
       "      <td>0.153784</td>\n",
       "      <td>1.000000</td>\n",
       "      <td>0.141999</td>\n",
       "      <td>0.106537</td>\n",
       "    </tr>\n",
       "    <tr>\n",
       "      <th>mb_used</th>\n",
       "      <td>0.253886</td>\n",
       "      <td>0.248818</td>\n",
       "      <td>0.141999</td>\n",
       "      <td>1.000000</td>\n",
       "      <td>0.154989</td>\n",
       "    </tr>\n",
       "    <tr>\n",
       "      <th>is_ultra</th>\n",
       "      <td>0.160549</td>\n",
       "      <td>0.159991</td>\n",
       "      <td>0.106537</td>\n",
       "      <td>0.154989</td>\n",
       "      <td>1.000000</td>\n",
       "    </tr>\n",
       "  </tbody>\n",
       "</table>\n",
       "</div>"
      ],
      "text/plain": [
       "             calls   minutes  messages   mb_used  is_ultra\n",
       "calls     1.000000  0.978684  0.155032  0.253886  0.160549\n",
       "minutes   0.978684  1.000000  0.153784  0.248818  0.159991\n",
       "messages  0.155032  0.153784  1.000000  0.141999  0.106537\n",
       "mb_used   0.253886  0.248818  0.141999  1.000000  0.154989\n",
       "is_ultra  0.160549  0.159991  0.106537  0.154989  1.000000"
      ]
     },
     "execution_count": 12,
     "metadata": {},
     "output_type": "execute_result"
    }
   ],
   "source": [
    "# Корреляции между данными в столбцах\n",
    "data.corr(method='spearman')"
   ]
  },
  {
   "cell_type": "markdown",
   "metadata": {},
   "source": [
    "<div class=\"alert alert-warning\">\n",
    "<b>Комментарий 👉</b>\n",
    "\n",
    "Вот тут бы чуть подробнее, что смотрели и какие выводы сделали. Сам по себе info / describe / duplicated() / гистограммы (при наличии) мне всё говорят о данных, но хотелось бы получить и словесное описание для нашего менеджера, который вызывает нас сегодня я тобой на совещание по этому вопросу.\n",
    "\n",
    "p.s. Да, я помню, что в брифе проекта написано, что предобработка данных не требуется, что она уже сделана ранее, но тем не менее вкратце озвучить итоги прошлого проекта можно было бы и здесь (чтобы \"втащить меня\", твоего коллегу, в этот проект).\n",
    "</div>"
   ]
  },
  {
   "cell_type": "markdown",
   "metadata": {},
   "source": [
    "<div class=\"alert alert-success\">\n",
    "<b>ОТЛИЧНО! 👍</b>\n",
    "\n",
    "Данные загружены, отлично.\n",
    "\n",
    "Хорошо, что применяешь метод .head()/.sample() таким образом в память не будет загружен весь датасет, объем которого может быть огромным.\n",
    "\n",
    "Методы .info, .describe, .value_counts(), .unique() как правило часто встречаются и обязательны к применению в задачах по исследованию данных, ведь с их помощью можно получить первые инсайты. \n",
    "\n",
    "Итак, мы провели предварительный анализ данных, проверили данные на наличие пропусков (*из применяемых тобой методов видно что пропусков нет*) и затем обработали их (аргументированно заполнили / удалили / оставили как есть). Теперь можно приступать собственно к построению моделей и ответам на вопросы проекта.\n",
    "</div>"
   ]
  },
  {
   "cell_type": "markdown",
   "metadata": {},
   "source": [
    "<div class=\"alert alert-warning\">\n",
    "<b>Комментарий 👉</b>\n",
    "\n",
    "Несколько моментов \"на будущее\" (сейчас забегаю чуть вперед, но будущем это будет важно) которые я хотел озвучить перед переходом к собственно исследованию:\n",
    "    \n",
    "-  имеет смысл критично посмотреть на данные с точки зрения наличия пропусков в признаках (вопрос: все ли ml-модели \"любят\" пропуски?). Из результата info / describe / .duplicated() видно что пропусков нет, но я бы ещё явно это сказал. \n",
    "    \n",
    "- имеет смысл явно обозначить какую задачу мы будем решать: с учителем / без учителя, классификации / регрессии ...\n",
    "    \n",
    "- в моделях бинарной классификации имеет смысл смотреть на баланс классов. Два взгляда (с разных сторон) на эту проблему тут: https://alexanderdyakonov.wordpress.com/2021/05/27/imbalance/ и https://habr.com/ru/post/349078/\n",
    "    \n",
    "- имеет смысл смотреть на корреляцию признаков. При высокой их степени коррелированности возникает проблема  мультиколлиниарность признаков. Проблема \"мультиколлинеарности\" это и про переобучение модели и про её интерпретируемость и про сложность модели (содержание в модели избыточного количества переменных). В чем негативный эффект сложной модели? Вот в чем: усложняется интерпретация параметров, оценки параметров ненадежны – получаются большие стандартные ошибки, которые меняются с изменением объема наблюдений, что делает модель регрессии непригодной для прогнозирования.\n",
    "    \n",
    "А теперь давай про интерпретируемость. Согласись - это важно, чтобы результат, который выдает модель можно было бы понять и объяснить с точки зрения предметной области. В случае включения в модель коллинеарных признаков может случиться так, что коэффициенты (да, проблема присуща моделям линейным ... регрессия среди них!) могут менять знаки и попытка объяснения предметной области с помощью этих коэффициентов будет противоречить здравому смыслу.\n",
    "    \n",
    "Вот классная статья. Простым языком, на примере показана проблема. А также, что важно - разобраны варианты как её (проблему) победить. Статья: https://habr.com/ru/company/akbarsdigital/blog/592493/ \n",
    "</div>"
   ]
  },
  {
   "cell_type": "markdown",
   "metadata": {},
   "source": [
    "<div style=\"background: #B0E0E6; padding: 5px; border: 1px solid SteelBlue; border-radius: 5px;\">\n",
    "    <font color='4682B4'><u><b>КОММЕНТАРИЙ СТУДЕНТА</b></u></font>\n",
    "    <br />\n",
    "    <font color='4682B4'>Александр, спасибо за обширную информацию!</font>\n",
    "</div>"
   ]
  },
  {
   "cell_type": "markdown",
   "metadata": {},
   "source": [
    "<div style=\"background: #B0E0E6; padding: 5px; border: 1px solid SteelBlue; border-radius: 5px;\">\n",
    "    <font color='4682B4'><u><b>КОММЕНТАРИЙ СТУДЕНТА</b></u></font>\n",
    "    <br />\n",
    "    <font color='4682B4'>Добавил проверку данных</font>\n",
    "</div>"
   ]
  },
  {
   "cell_type": "code",
   "execution_count": 13,
   "metadata": {},
   "outputs": [
    {
     "data": {
      "image/png": "[encoded data removed]",
      "text/plain": [
       "<Figure size 1200x1000 with 6 Axes>"
      ]
     },
     "metadata": {},
     "output_type": "display_data"
    }
   ],
   "source": [
    "data.hist(figsize=(12, 10));"
   ]
  },
  {
   "cell_type": "code",
   "execution_count": 14,
   "metadata": {},
   "outputs": [
    {
     "name": "stdout",
     "output_type": "stream",
     "text": [
      "Кол-во уникальных значений в столбце: \"calls\": 184/3214\n",
      "Кол-во пропущенных значений в столбце: \"calls\": 0/3214\n",
      "Кол-во дубликатов в столбце:\n",
      "calls: 3030/3214\n",
      "Кол-во уникальных значений в столбце: \"minutes\": 3144/3214\n",
      "Кол-во пропущенных значений в столбце: \"minutes\": 0/3214\n",
      "Кол-во дубликатов в столбце:\n",
      "minutes: 70/3214\n",
      "Кол-во уникальных значений в столбце: \"messages\": 180/3214\n",
      "Кол-во пропущенных значений в столбце: \"messages\": 0/3214\n",
      "Кол-во дубликатов в столбце:\n",
      "messages: 3034/3214\n",
      "Кол-во уникальных значений в столбце: \"mb_used\": 3203/3214\n",
      "Кол-во пропущенных значений в столбце: \"mb_used\": 0/3214\n",
      "Кол-во дубликатов в столбце:\n",
      "mb_used: 11/3214\n",
      "Кол-во уникальных значений в столбце: \"is_ultra\": 2/3214\n",
      "Кол-во пропущенных значений в столбце: \"is_ultra\": 0/3214\n",
      "Кол-во дубликатов в столбце:\n",
      "is_ultra: 3212/3214\n"
     ]
    }
   ],
   "source": [
    "# Проверка в столбцах на уникальные значения, пропуски, дубликаты\n",
    "for i in range(len(data.columns)):\n",
    "    column_value_test(data.iloc[:, i], test='un')\n",
    "    column_value_test(data.iloc[:, i], test='na')\n",
    "    column_value_test(data.iloc[:, i], test='du')"
   ]
  },
  {
   "cell_type": "code",
   "execution_count": 15,
   "metadata": {},
   "outputs": [
    {
     "name": "stdout",
     "output_type": "stream",
     "text": [
      "calls       0\n",
      "minutes     0\n",
      "messages    0\n",
      "mb_used     0\n",
      "is_ultra    0\n",
      "dtype: int64\n",
      "Общее количество: 0\n"
     ]
    }
   ],
   "source": [
    "# Нахождение пропусков (NaN) в данных\n",
    "print(data.isna().sum())\n",
    "print('Общее количество:', data.isna().sum().sum())"
   ]
  },
  {
   "cell_type": "code",
   "execution_count": 16,
   "metadata": {},
   "outputs": [
    {
     "data": {
      "text/plain": [
       "0"
      ]
     },
     "execution_count": 16,
     "metadata": {},
     "output_type": "execute_result"
    }
   ],
   "source": [
    "# Проверка на дубликаты между столбцами\n",
    "data[['calls', 'minutes', 'mb_used']].duplicated().sum()"
   ]
  },
  {
   "cell_type": "markdown",
   "metadata": {},
   "source": [
    "#### Вывод:"
   ]
  },
  {
   "cell_type": "markdown",
   "metadata": {},
   "source": [
    "**Краткое описание:**\n",
    "\n",
    "    - файл данных: 'https://code.s3.yandex.net/datasets/users_behavior.csv'\n",
    "    - в качестве разделителя в csv файле применён знак табуляции (',')\n",
    "    - размерность: 5 столбцов на 3214 строк\n",
    "    - типы данных: float64(4), int64(1)\n",
    "\n",
    "**Описание типов и распределеления данных:**\n",
    "\n",
    "\t- calls      — [float64] — близко к нормальному положительное распределению. Сходен с minutes\n",
    "\t- minutes    — [float64] — близко к нормальному положительное распределению. Сходен с calls\n",
    "\t- messages   — [float64] — положительное распределение\n",
    "\t- mb_used    — [float64] — близко к нормальному положительное распределению\n",
    "\t- is_ultra   — [int64]   — всего два уникальных значения. Логичнее тип [bool]\n",
    "    \n",
    "**Пропуски, аномалии, дубликаты:**\n",
    "\n",
    "- количество пропусков: 0\n",
    "- количество аномальных значений: 0    \n",
    "- количество дубликатов:\n",
    "    - calls: 3030/3214\n",
    "    - minutes: 70/3214\n",
    "    - messages: 3034/3214\n",
    "    - mb_used: 11/3214\n",
    "    - is_ultra: 3212/3214\n",
    "    \n",
    "**Прочее**:\n",
    "- у столбцов calls и minutes очень сильная положительная корреляция (почти 0.98)"
   ]
  },
  {
   "cell_type": "markdown",
   "metadata": {},
   "source": [
    "## Разбейте данные на выборки"
   ]
  },
  {
   "cell_type": "markdown",
   "metadata": {},
   "source": [
    "Разобьём выборку на обучающую, валидационную и тестовую с помощью функции split_stratified_into_train_val_test в пропорции 3-1-1 соответственно."
   ]
  },
  {
   "cell_type": "code",
   "execution_count": 17,
   "metadata": {},
   "outputs": [
    {
     "name": "stdout",
     "output_type": "stream",
     "text": [
      "dataframe: (3214, 5)\n",
      "features_train: (1928, 4)\n",
      "features_valid: (643, 4)\n",
      "features_test: (643, 4)\n",
      "target_train: (1928, 1)\n",
      "target_valid: (643, 1)\n",
      "target_test: (643, 1)\n"
     ]
    }
   ],
   "source": [
    "features_train, features_valid, features_test, target_train, target_valid, target_test = \\\n",
    "    split_stratified_into_train_val_test(data, stratify_colname='is_ultra',\n",
    "                                         frac_train=0.6, frac_valid=0.2, frac_test=0.2,\n",
    "                                         random_state=12345)"
   ]
  },
  {
   "cell_type": "code",
   "execution_count": 18,
   "metadata": {},
   "outputs": [
    {
     "data": {
      "text/html": [
       "<style  type=\"text/css\" >\n",
       "</style><table id=\"T_47e16_\" style='display:inline'><caption>features_train</caption><thead>    <tr>        <th class=\"blank level0\" ></th>        <th class=\"col_heading level0 col0\" >minutes</th>        <th class=\"col_heading level0 col1\" >messages</th>        <th class=\"col_heading level0 col2\" >mb_used</th>    </tr></thead><tbody>\n",
       "                <tr>\n",
       "                        <th id=\"T_47e16_level0_row0\" class=\"row_heading level0 row0\" >2294</th>\n",
       "                        <td id=\"T_47e16_row0_col0\" class=\"data row0 col0\" >484.49</td>\n",
       "                        <td id=\"T_47e16_row0_col1\" class=\"data row0 col1\" >11.00</td>\n",
       "                        <td id=\"T_47e16_row0_col2\" class=\"data row0 col2\" >22454.35</td>\n",
       "            </tr>\n",
       "            <tr>\n",
       "                        <th id=\"T_47e16_level0_row1\" class=\"row_heading level0 row1\" >1759</th>\n",
       "                        <td id=\"T_47e16_row1_col0\" class=\"data row1 col0\" >328.88</td>\n",
       "                        <td id=\"T_47e16_row1_col1\" class=\"data row1 col1\" >24.00</td>\n",
       "                        <td id=\"T_47e16_row1_col2\" class=\"data row1 col2\" >20511.93</td>\n",
       "            </tr>\n",
       "            <tr>\n",
       "                        <th id=\"T_47e16_level0_row2\" class=\"row_heading level0 row2\" >529</th>\n",
       "                        <td id=\"T_47e16_row2_col0\" class=\"data row2 col0\" >705.05</td>\n",
       "                        <td id=\"T_47e16_row2_col1\" class=\"data row2 col1\" >18.00</td>\n",
       "                        <td id=\"T_47e16_row2_col2\" class=\"data row2 col2\" >22130.74</td>\n",
       "            </tr>\n",
       "            <tr>\n",
       "                        <th id=\"T_47e16_level0_row3\" class=\"row_heading level0 row3\" >1599</th>\n",
       "                        <td id=\"T_47e16_row3_col0\" class=\"data row3 col0\" >135.52</td>\n",
       "                        <td id=\"T_47e16_row3_col1\" class=\"data row3 col1\" >48.00</td>\n",
       "                        <td id=\"T_47e16_row3_col2\" class=\"data row3 col2\" >13152.50</td>\n",
       "            </tr>\n",
       "            <tr>\n",
       "                        <th id=\"T_47e16_level0_row4\" class=\"row_heading level0 row4\" >1868</th>\n",
       "                        <td id=\"T_47e16_row4_col0\" class=\"data row4 col0\" >159.55</td>\n",
       "                        <td id=\"T_47e16_row4_col1\" class=\"data row4 col1\" >0.00</td>\n",
       "                        <td id=\"T_47e16_row4_col2\" class=\"data row4 col2\" >14780.00</td>\n",
       "            </tr>\n",
       "    </tbody></table>   <style  type=\"text/css\" >\n",
       "</style><table id=\"T_d3159_\" style='display:inline'><caption>features_valid</caption><thead>    <tr>        <th class=\"blank level0\" ></th>        <th class=\"col_heading level0 col0\" >minutes</th>        <th class=\"col_heading level0 col1\" >messages</th>        <th class=\"col_heading level0 col2\" >mb_used</th>    </tr></thead><tbody>\n",
       "                <tr>\n",
       "                        <th id=\"T_d3159_level0_row0\" class=\"row_heading level0 row0\" >78</th>\n",
       "                        <td id=\"T_d3159_row0_col0\" class=\"data row0 col0\" >562.27</td>\n",
       "                        <td id=\"T_d3159_row0_col1\" class=\"data row0 col1\" >11.00</td>\n",
       "                        <td id=\"T_d3159_row0_col2\" class=\"data row0 col2\" >17589.08</td>\n",
       "            </tr>\n",
       "            <tr>\n",
       "                        <th id=\"T_d3159_level0_row1\" class=\"row_heading level0 row1\" >2024</th>\n",
       "                        <td id=\"T_d3159_row1_col0\" class=\"data row1 col0\" >147.66</td>\n",
       "                        <td id=\"T_d3159_row1_col1\" class=\"data row1 col1\" >39.00</td>\n",
       "                        <td id=\"T_d3159_row1_col2\" class=\"data row1 col2\" >7545.04</td>\n",
       "            </tr>\n",
       "            <tr>\n",
       "                        <th id=\"T_d3159_level0_row2\" class=\"row_heading level0 row2\" >2907</th>\n",
       "                        <td id=\"T_d3159_row2_col0\" class=\"data row2 col0\" >1132.94</td>\n",
       "                        <td id=\"T_d3159_row2_col1\" class=\"data row2 col1\" >16.00</td>\n",
       "                        <td id=\"T_d3159_row2_col2\" class=\"data row2 col2\" >5998.50</td>\n",
       "            </tr>\n",
       "            <tr>\n",
       "                        <th id=\"T_d3159_level0_row3\" class=\"row_heading level0 row3\" >680</th>\n",
       "                        <td id=\"T_d3159_row3_col0\" class=\"data row3 col0\" >848.92</td>\n",
       "                        <td id=\"T_d3159_row3_col1\" class=\"data row3 col1\" >57.00</td>\n",
       "                        <td id=\"T_d3159_row3_col2\" class=\"data row3 col2\" >19967.05</td>\n",
       "            </tr>\n",
       "            <tr>\n",
       "                        <th id=\"T_d3159_level0_row4\" class=\"row_heading level0 row4\" >3078</th>\n",
       "                        <td id=\"T_d3159_row4_col0\" class=\"data row4 col0\" >60.13</td>\n",
       "                        <td id=\"T_d3159_row4_col1\" class=\"data row4 col1\" >22.00</td>\n",
       "                        <td id=\"T_d3159_row4_col2\" class=\"data row4 col2\" >29289.67</td>\n",
       "            </tr>\n",
       "    </tbody></table>   <style  type=\"text/css\" >\n",
       "</style><table id=\"T_3f4eb_\" style='display:inline'><caption>features_test</caption><thead>    <tr>        <th class=\"blank level0\" ></th>        <th class=\"col_heading level0 col0\" >minutes</th>        <th class=\"col_heading level0 col1\" >messages</th>        <th class=\"col_heading level0 col2\" >mb_used</th>    </tr></thead><tbody>\n",
       "                <tr>\n",
       "                        <th id=\"T_3f4eb_level0_row0\" class=\"row_heading level0 row0\" >3113</th>\n",
       "                        <td id=\"T_3f4eb_row0_col0\" class=\"data row0 col0\" >460.33</td>\n",
       "                        <td id=\"T_3f4eb_row0_col1\" class=\"data row0 col1\" >0.00</td>\n",
       "                        <td id=\"T_3f4eb_row0_col2\" class=\"data row0 col2\" >15402.88</td>\n",
       "            </tr>\n",
       "            <tr>\n",
       "                        <th id=\"T_3f4eb_level0_row1\" class=\"row_heading level0 row1\" >1459</th>\n",
       "                        <td id=\"T_3f4eb_row1_col0\" class=\"data row1 col0\" >312.02</td>\n",
       "                        <td id=\"T_3f4eb_row1_col1\" class=\"data row1 col1\" >66.00</td>\n",
       "                        <td id=\"T_3f4eb_row1_col2\" class=\"data row1 col2\" >21645.98</td>\n",
       "            </tr>\n",
       "            <tr>\n",
       "                        <th id=\"T_3f4eb_level0_row2\" class=\"row_heading level0 row2\" >2791</th>\n",
       "                        <td id=\"T_3f4eb_row2_col0\" class=\"data row2 col0\" >445.03</td>\n",
       "                        <td id=\"T_3f4eb_row2_col1\" class=\"data row2 col1\" >117.00</td>\n",
       "                        <td id=\"T_3f4eb_row2_col2\" class=\"data row2 col2\" >10231.26</td>\n",
       "            </tr>\n",
       "            <tr>\n",
       "                        <th id=\"T_3f4eb_level0_row3\" class=\"row_heading level0 row3\" >3141</th>\n",
       "                        <td id=\"T_3f4eb_row3_col0\" class=\"data row3 col0\" >32.49</td>\n",
       "                        <td id=\"T_3f4eb_row3_col1\" class=\"data row3 col1\" >12.00</td>\n",
       "                        <td id=\"T_3f4eb_row3_col2\" class=\"data row3 col2\" >1444.15</td>\n",
       "            </tr>\n",
       "            <tr>\n",
       "                        <th id=\"T_3f4eb_level0_row4\" class=\"row_heading level0 row4\" >2380</th>\n",
       "                        <td id=\"T_3f4eb_row4_col0\" class=\"data row4 col0\" >472.74</td>\n",
       "                        <td id=\"T_3f4eb_row4_col1\" class=\"data row4 col1\" >40.00</td>\n",
       "                        <td id=\"T_3f4eb_row4_col2\" class=\"data row4 col2\" >23709.86</td>\n",
       "            </tr>\n",
       "    </tbody></table>   "
      ],
      "text/plain": [
       "<IPython.core.display.HTML object>"
      ]
     },
     "metadata": {},
     "output_type": "display_data"
    }
   ],
   "source": [
    "# Борьба с мультиколлинеарностью. Часть 1\n",
    "# уберём один из двух столбцов с очень высокой положительной корреляцией\n",
    "# выберем столбец, у которого меньше уникальных значений - 'calls'\n",
    "features_train = features_train.drop('calls', axis=1)\n",
    "features_valid = features_valid.drop('calls', axis=1)\n",
    "features_test = features_test.drop('calls', axis=1)\n",
    "\n",
    "display_side_by_side([features_train.head(), features_valid.head(), features_test.head()],\n",
    "                     ['features_train', 'features_valid', 'features_test'])"
   ]
  },
  {
   "cell_type": "markdown",
   "metadata": {},
   "source": [
    "<div class=\"alert alert-success\">\n",
    "<b>ОТЛИЧНО! 👍</b>\n",
    "\n",
    "1. Здесь хорошо, происходит фиксация random_state. Воспроизводимость результатов разбиения выборки на обучающую (тренировочную) / тестовую / валидационную мы обеспечили, значит при всех последующих запусках нашего кода подвыборки будут идентичными.\n",
    "    \n",
    "2. Доли размеров train/test/valid 3:1:1 - хорошо.\n",
    "</div>"
   ]
  },
  {
   "cell_type": "markdown",
   "metadata": {},
   "source": [
    "<div class=\"alert alert-success\">\n",
    "<b>ОТЛИЧНО! 👍</b>\n",
    "\n",
    "Молодец, что после разбиения данных на выборки смотришь на их размеры и размерности. Метод shape для этого - идеальный помощник. \"Цифры\" по выборкам показывают верно ли мы произвели \"разделение\" данных.\n",
    "\n",
    "p.s. так (**псевдокод**): X_train.shape[0] – «покажет» количество строк в тренировочной выборке, а X_train.shape[1] - количество столбцов в ней же. Ну а X_train.shape – выведет размерность train'а в виде кортежа с 2мя значениями (первое число – количество строк, второе – столбцов).</div>"
   ]
  },
  {
   "cell_type": "code",
   "execution_count": 19,
   "metadata": {},
   "outputs": [
    {
     "data": {
      "text/html": [
       "<style  type=\"text/css\" >\n",
       "</style><table id=\"T_f1e54_\" style='display:inline'><caption>target_train</caption><thead>    <tr>        <th class=\"blank level0\" ></th>        <th class=\"col_heading level0 col0\" >is_ultra</th>    </tr></thead><tbody>\n",
       "                <tr>\n",
       "                        <th id=\"T_f1e54_level0_row0\" class=\"row_heading level0 row0\" >2294</th>\n",
       "                        <td id=\"T_f1e54_row0_col0\" class=\"data row0 col0\" >0.00</td>\n",
       "            </tr>\n",
       "            <tr>\n",
       "                        <th id=\"T_f1e54_level0_row1\" class=\"row_heading level0 row1\" >1759</th>\n",
       "                        <td id=\"T_f1e54_row1_col0\" class=\"data row1 col0\" >0.00</td>\n",
       "            </tr>\n",
       "            <tr>\n",
       "                        <th id=\"T_f1e54_level0_row2\" class=\"row_heading level0 row2\" >529</th>\n",
       "                        <td id=\"T_f1e54_row2_col0\" class=\"data row2 col0\" >1.00</td>\n",
       "            </tr>\n",
       "            <tr>\n",
       "                        <th id=\"T_f1e54_level0_row3\" class=\"row_heading level0 row3\" >1599</th>\n",
       "                        <td id=\"T_f1e54_row3_col0\" class=\"data row3 col0\" >0.00</td>\n",
       "            </tr>\n",
       "            <tr>\n",
       "                        <th id=\"T_f1e54_level0_row4\" class=\"row_heading level0 row4\" >1868</th>\n",
       "                        <td id=\"T_f1e54_row4_col0\" class=\"data row4 col0\" >0.00</td>\n",
       "            </tr>\n",
       "    </tbody></table>   <style  type=\"text/css\" >\n",
       "</style><table id=\"T_db84c_\" style='display:inline'><caption>target_valid</caption><thead>    <tr>        <th class=\"blank level0\" ></th>        <th class=\"col_heading level0 col0\" >is_ultra</th>    </tr></thead><tbody>\n",
       "                <tr>\n",
       "                        <th id=\"T_db84c_level0_row0\" class=\"row_heading level0 row0\" >78</th>\n",
       "                        <td id=\"T_db84c_row0_col0\" class=\"data row0 col0\" >0.00</td>\n",
       "            </tr>\n",
       "            <tr>\n",
       "                        <th id=\"T_db84c_level0_row1\" class=\"row_heading level0 row1\" >2024</th>\n",
       "                        <td id=\"T_db84c_row1_col0\" class=\"data row1 col0\" >0.00</td>\n",
       "            </tr>\n",
       "            <tr>\n",
       "                        <th id=\"T_db84c_level0_row2\" class=\"row_heading level0 row2\" >2907</th>\n",
       "                        <td id=\"T_db84c_row2_col0\" class=\"data row2 col0\" >1.00</td>\n",
       "            </tr>\n",
       "            <tr>\n",
       "                        <th id=\"T_db84c_level0_row3\" class=\"row_heading level0 row3\" >680</th>\n",
       "                        <td id=\"T_db84c_row3_col0\" class=\"data row3 col0\" >0.00</td>\n",
       "            </tr>\n",
       "            <tr>\n",
       "                        <th id=\"T_db84c_level0_row4\" class=\"row_heading level0 row4\" >3078</th>\n",
       "                        <td id=\"T_db84c_row4_col0\" class=\"data row4 col0\" >1.00</td>\n",
       "            </tr>\n",
       "    </tbody></table>   <style  type=\"text/css\" >\n",
       "</style><table id=\"T_4f264_\" style='display:inline'><caption>target_test</caption><thead>    <tr>        <th class=\"blank level0\" ></th>        <th class=\"col_heading level0 col0\" >is_ultra</th>    </tr></thead><tbody>\n",
       "                <tr>\n",
       "                        <th id=\"T_4f264_level0_row0\" class=\"row_heading level0 row0\" >3113</th>\n",
       "                        <td id=\"T_4f264_row0_col0\" class=\"data row0 col0\" >0.00</td>\n",
       "            </tr>\n",
       "            <tr>\n",
       "                        <th id=\"T_4f264_level0_row1\" class=\"row_heading level0 row1\" >1459</th>\n",
       "                        <td id=\"T_4f264_row1_col0\" class=\"data row1 col0\" >0.00</td>\n",
       "            </tr>\n",
       "            <tr>\n",
       "                        <th id=\"T_4f264_level0_row2\" class=\"row_heading level0 row2\" >2791</th>\n",
       "                        <td id=\"T_4f264_row2_col0\" class=\"data row2 col0\" >1.00</td>\n",
       "            </tr>\n",
       "            <tr>\n",
       "                        <th id=\"T_4f264_level0_row3\" class=\"row_heading level0 row3\" >3141</th>\n",
       "                        <td id=\"T_4f264_row3_col0\" class=\"data row3 col0\" >1.00</td>\n",
       "            </tr>\n",
       "            <tr>\n",
       "                        <th id=\"T_4f264_level0_row4\" class=\"row_heading level0 row4\" >2380</th>\n",
       "                        <td id=\"T_4f264_row4_col0\" class=\"data row4 col0\" >0.00</td>\n",
       "            </tr>\n",
       "    </tbody></table>   "
      ],
      "text/plain": [
       "<IPython.core.display.HTML object>"
      ]
     },
     "metadata": {},
     "output_type": "display_data"
    }
   ],
   "source": [
    "display_side_by_side([target_train.head(), target_valid.head(), target_test.head()],\n",
    "                     ['target_train', 'target_valid', 'target_test'])"
   ]
  },
  {
   "cell_type": "code",
   "execution_count": 20,
   "metadata": {},
   "outputs": [
    {
     "name": "stdout",
     "output_type": "stream",
     "text": [
      "<class 'pandas.core.frame.DataFrame'>\n",
      "Int64Index: 1928 entries, 2294 to 2134\n",
      "Data columns (total 1 columns):\n",
      " #   Column    Non-Null Count  Dtype\n",
      "---  ------    --------------  -----\n",
      " 0   is_ultra  1928 non-null   int64\n",
      "dtypes: int64(1)\n",
      "memory usage: 30.1 KB\n"
     ]
    }
   ],
   "source": [
    "target_train.info()"
   ]
  },
  {
   "cell_type": "code",
   "execution_count": 21,
   "metadata": {},
   "outputs": [],
   "source": [
    "# df-->series \n",
    "target_train = target_train.squeeze()\n",
    "target_valid = target_valid.squeeze()\n",
    "target_test = target_test.squeeze()"
   ]
  },
  {
   "cell_type": "code",
   "execution_count": 22,
   "metadata": {},
   "outputs": [
    {
     "name": "stdout",
     "output_type": "stream",
     "text": [
      "Кол-во уникальных значений в столбце: \"is_ultra\": 2/1928\n",
      "Кол-во уникальных значений в столбце: \"is_ultra\": 2/643\n",
      "Кол-во уникальных значений в столбце: \"is_ultra\": 2/643\n"
     ]
    }
   ],
   "source": [
    "# информация о столбце\n",
    "column_value_test(target_train)\n",
    "column_value_test(target_valid)\n",
    "column_value_test(target_test)"
   ]
  },
  {
   "cell_type": "markdown",
   "metadata": {},
   "source": [
    "## Исследуйте модели"
   ]
  },
  {
   "cell_type": "markdown",
   "metadata": {},
   "source": [
    "Лучшую модель выберем, подбором гиперпараметров для:\n",
    "- LogisticRegression (логистическая регрессия)\n",
    "- DecisionTreeClassifier (решающее дерево для категориальных данных)\n",
    "- RandomForestClassifier (случайный лес для категориальных данных)"
   ]
  },
  {
   "cell_type": "markdown",
   "metadata": {},
   "source": [
    "### LogisticRegression (логистическая регрессия)"
   ]
  },
  {
   "cell_type": "code",
   "execution_count": 23,
   "metadata": {},
   "outputs": [
    {
     "name": "stdout",
     "output_type": "stream",
     "text": [
      "== LogisticRegression ==\n",
      "Точность модели на валидационной выборке: 0.71850699844479\n",
      "\n",
      "CPU times: user 17.5 ms, sys: 1.32 ms, total: 18.9 ms\n",
      "Wall time: 18.3 ms\n"
     ]
    }
   ],
   "source": [
    "%%time\n",
    "model = LogisticRegression()\n",
    "model.fit(features_train, target_train) \n",
    "\n",
    "# Обученная модель готова предсказывать. Вызовите метод predict().\n",
    "predictions = model.predict(features_valid) \n",
    "\n",
    "# Чтобы посмотреть accuracy модели, нужно вызвать функцию .score():\n",
    "result = accuracy_score(target_valid, predictions) \n",
    "\n",
    "print('== LogisticRegression ==')\n",
    "print(\"Точность модели на валидационной выборке:\", result)\n",
    "print()"
   ]
  },
  {
   "cell_type": "markdown",
   "metadata": {},
   "source": [
    "Наблюдение:\n",
    "- очень быстро, но точность не дотягивает до заданных 0.75\n",
    "- если убрать 'calls', точность немного падает\n",
    "- если убрать 'minutes', точность чуть-чуть растёт"
   ]
  },
  {
   "cell_type": "markdown",
   "metadata": {},
   "source": [
    "### DecisionTreeClassifier (решающее дерево для категориальных данных)"
   ]
  },
  {
   "cell_type": "markdown",
   "metadata": {},
   "source": [
    "Параметры DecisionTreeClassifier:\n",
    "\n",
    "    max_depth – максимальная глубина дерева"
   ]
  },
  {
   "cell_type": "code",
   "execution_count": 24,
   "metadata": {},
   "outputs": [
    {
     "data": {
      "application/vnd.jupyter.widget-view+json": {
       "model_id": "ccddbbfa2cb84b6e91914fa25d6375b0",
       "version_major": 2,
       "version_minor": 0
      },
      "text/plain": [
       "  0%|          | 0/19 [00:00<?, ?it/s]"
      ]
     },
     "metadata": {},
     "output_type": "display_data"
    },
    {
     "name": "stdout",
     "output_type": "stream",
     "text": [
      "== DecisionTreeClassifier ==\n",
      "Best model accuracy: 0.7916018662519441\n",
      "Best model params: DecisionTreeClassifier(max_depth=8, random_state=12345)\n",
      "Best model depth: 8\n",
      "\n",
      "CPU times: user 180 ms, sys: 13.2 ms, total: 193 ms\n",
      "Wall time: 190 ms\n"
     ]
    }
   ],
   "source": [
    "%%time\n",
    "best_model_dtc = None\n",
    "best_result_dtc = 0\n",
    "best_depth_dtc = 0\n",
    "for depth in tqdm(range(1,20)):\n",
    "    model_dtc = DecisionTreeClassifier(random_state=12345, max_depth=depth) \n",
    "    model_dtc.fit(features_train, target_train) \n",
    "    predictions = model_dtc.predict(features_valid)\n",
    "    result = accuracy_score(target_valid, predictions) \n",
    "    if result > best_result_dtc:\n",
    "        best_result_dtc = result\n",
    "        best_model_dtc = model_dtc\n",
    "        best_depth_dtc = depth\n",
    "        \n",
    "print('== DecisionTreeClassifier ==')\n",
    "print(\"Best model accuracy:\", best_result_dtc)\n",
    "print(\"Best model params:\", best_model_dtc)\n",
    "print(\"Best model depth:\", best_depth_dtc)\n",
    "print()"
   ]
  },
  {
   "cell_type": "markdown",
   "metadata": {},
   "source": [
    "Наблюдение:\n",
    "- очень быстро и требуемая точность достигнута\n",
    "- если убрать 'calls' или 'minutes', точность немного падает (на 0.01)"
   ]
  },
  {
   "cell_type": "markdown",
   "metadata": {},
   "source": [
    "### RandomForestClassifier (случайный лес для категориальных данных)"
   ]
  },
  {
   "cell_type": "markdown",
   "metadata": {},
   "source": [
    "Параметры RandomForestClassifier:\n",
    "\n",
    "    max_depth – глубина дерева\n",
    "    min_samples_leaf – минимальное число образцов в листах\n",
    "    min_samples_split – минимальное число образцов для разделения\n",
    "    n_estimators – число деревьев в лесу"
   ]
  },
  {
   "cell_type": "markdown",
   "metadata": {},
   "source": [
    "Подбор параметров при помощи GridSearchCV путём беребора"
   ]
  },
  {
   "cell_type": "code",
   "execution_count": 25,
   "metadata": {},
   "outputs": [
    {
     "name": "stdout",
     "output_type": "stream",
     "text": [
      "CPU times: user 25.7 s, sys: 122 ms, total: 25.9 s\n",
      "Wall time: 25.9 s\n"
     ]
    },
    {
     "data": {
      "text/plain": [
       "{'max_depth': 11,\n",
       " 'min_samples_leaf': 3,\n",
       " 'min_samples_split': 6,\n",
       " 'n_estimators': 13}"
      ]
     },
     "execution_count": 25,
     "metadata": {},
     "output_type": "execute_result"
    }
   ],
   "source": [
    "%%time\n",
    "params = {      \n",
    "          'max_depth': range (7,12,2),     \n",
    "          'min_samples_leaf': range (1,5),      \n",
    "          'min_samples_split': range (2,7,2),  \n",
    "          'n_estimators': range (7,16,2)        \n",
    "         }\n",
    "\n",
    "model_rfc = RandomForestClassifier() \n",
    "\n",
    "gs = GridSearchCV(model_rfc, params, cv=5)\n",
    "gs.fit(features_train, target_train)\n",
    "best_params_in = gs.best_params_\n",
    "best_params_in"
   ]
  },
  {
   "cell_type": "code",
   "execution_count": 26,
   "metadata": {},
   "outputs": [],
   "source": [
    "# == Лучший результат (длительность - около минуты) ==\n",
    "# {'max_depth': 11,         # (1,12,2)\n",
    "#  'min_samples_leaf': 4,   # (1,5)\n",
    "#  'min_samples_split': 6,  # (2,7,2)\n",
    "#  'n_estimators': 15}      # (1,16,2)"
   ]
  },
  {
   "cell_type": "code",
   "execution_count": 27,
   "metadata": {},
   "outputs": [],
   "source": [
    "# переменные для удобства\n",
    "depth1 = best_params_in['max_depth']\n",
    "leaf1 = best_params_in['min_samples_leaf']\n",
    "split1 = best_params_in['min_samples_split']\n",
    "estimator1 = best_params_in['n_estimators']"
   ]
  },
  {
   "cell_type": "code",
   "execution_count": 28,
   "metadata": {},
   "outputs": [],
   "source": [
    "# Функция расчёта точности модели\n",
    "def accuracy_calc(depth, leaf, split, estimator):\n",
    "    model = RandomForestClassifier(random_state=12345,\n",
    "                                    max_depth = depth,\n",
    "                                    min_samples_leaf = leaf,\n",
    "                                    min_samples_split = split,\n",
    "                                    n_estimators = estimator)\n",
    "\n",
    "    model.fit(features_train, target_train) \n",
    "    predictions = model.predict(features_valid)\n",
    "    \n",
    "    return model, predictions, accuracy_score(target_valid, predictions)"
   ]
  },
  {
   "cell_type": "code",
   "execution_count": 29,
   "metadata": {},
   "outputs": [
    {
     "name": "stdout",
     "output_type": "stream",
     "text": [
      "== RandomForestClassifier - brutto ==\n",
      "Best model validation accuracy: 0.80248833592535\n",
      "Best model params: RandomForestClassifier(max_depth=11, min_samples_leaf=3, min_samples_split=6,\n",
      "                       n_estimators=13, random_state=12345)\n",
      "11 3 6 13\n"
     ]
    }
   ],
   "source": [
    "# Проверка\n",
    "result_calc = accuracy_calc(depth1, leaf1, split1, estimator1)\n",
    "\n",
    "print('== RandomForestClassifier - brutto ==')\n",
    "print(\"Best model validation accuracy:\", result_calc[2])\n",
    "print(\"Best model params:\", result_calc[0])\n",
    "print(depth1, leaf1, split1, estimator1)"
   ]
  },
  {
   "cell_type": "markdown",
   "metadata": {},
   "source": [
    "Поиск лучших параметров. Точно"
   ]
  },
  {
   "cell_type": "code",
   "execution_count": 30,
   "metadata": {},
   "outputs": [
    {
     "data": {
      "application/vnd.jupyter.widget-view+json": {
       "model_id": "128759df2f6348519b2d475fe71e1448",
       "version_major": 2,
       "version_minor": 0
      },
      "text/plain": [
       "  0%|          | 0/5 [00:00<?, ?it/s]"
      ]
     },
     "metadata": {},
     "output_type": "display_data"
    },
    {
     "name": "stdout",
     "output_type": "stream",
     "text": [
      "== RandomForestClassifier - netto ==\n",
      "Best model validation accuracy: 0.8180404354587869\n",
      "Best model params: RandomForestClassifier(max_depth=12, min_samples_split=5, n_estimators=21,\n",
      "                       random_state=12345)\n",
      "12 1 5 21\n",
      "CPU times: user 30.8 s, sys: 83.7 ms, total: 30.9 s\n",
      "Wall time: 30.9 s\n"
     ]
    }
   ],
   "source": [
    "%%time\n",
    "def main_calc(depth, leaf, split, estimator):\n",
    "    result_calc = accuracy_calc(depth, leaf, split, estimator)\n",
    "    best_model = result_calc[0]\n",
    "    predictions = result_calc[1]\n",
    "    best_result = result_calc[2]\n",
    "    start = False\n",
    "    for dp in tqdm(range(depth-2, depth+3)):\n",
    "        if (dp < 1):\n",
    "            continue\n",
    "        if start:\n",
    "            result = accuracy_calc(dp, lf, splt, est)\n",
    "            model = result[0] \n",
    "            predictions = result[1]\n",
    "            result = result[2]\n",
    "            if result > best_result:\n",
    "                best_model = model\n",
    "                best_result = result    \n",
    "                depth = dp\n",
    "                leaf = lf\n",
    "                split = splt\n",
    "                estimator = est\n",
    "        for lf in range(leaf-2, leaf+3):\n",
    "            if (lf < 1):\n",
    "                continue\n",
    "            if start:\n",
    "                result = accuracy_calc(dp, lf, splt, est)\n",
    "                model = result[0] \n",
    "                predictions = result[1]\n",
    "                result = result[2]\n",
    "                if result > best_result:\n",
    "                    best_model = model\n",
    "                    best_result = result\n",
    "                    depth = dp\n",
    "                    leaf = lf\n",
    "                    split = splt\n",
    "                    estimator = est\n",
    "            for splt in range(split-2, split+3):\n",
    "                if (splt < 2):\n",
    "                    continue\n",
    "                if start:\n",
    "                    result = accuracy_calc(dp, lf, splt, est)\n",
    "                    model = result[0] \n",
    "                    predictions = result[1]\n",
    "                    result = result[2]\n",
    "                    if result > best_result:\n",
    "                        best_model = model\n",
    "                        best_result = result\n",
    "                        depth = dp\n",
    "                        leaf = lf\n",
    "                        split = splt\n",
    "                        estimator = est\n",
    "                for est in range(estimator-2, estimator+3):\n",
    "                    if (est < 1):\n",
    "                        continue\n",
    "                    start = True\n",
    "                    result = accuracy_calc(dp, lf, splt, est)\n",
    "                    model = result[0] \n",
    "                    predictions = result[1]\n",
    "                    result = result[2]\n",
    "\n",
    "                    if result > best_result:\n",
    "                        best_model = model\n",
    "                        best_result = result\n",
    "                        depth = dp\n",
    "                        leaf = lf\n",
    "                        split = splt\n",
    "                        estimator = est\n",
    "    print('== RandomForestClassifier - netto ==')\n",
    "    print(\"Best model validation accuracy:\", best_result)\n",
    "    print(\"Best model params:\", best_model)\n",
    "    print(depth,leaf,split,estimator)\n",
    "\n",
    "main_calc(depth1, leaf1, split1, estimator1)"
   ]
  },
  {
   "cell_type": "markdown",
   "metadata": {},
   "source": [
    "Наблюдение:\n",
    "- не быстро (в сумме около 1 минуты), но требуемая точность выше чем у решающего дерева"
   ]
  },
  {
   "cell_type": "markdown",
   "metadata": {},
   "source": [
    "Двухэтапный перебор в случайном лесе"
   ]
  },
  {
   "cell_type": "code",
   "execution_count": 31,
   "metadata": {},
   "outputs": [
    {
     "data": {
      "application/vnd.jupyter.widget-view+json": {
       "model_id": "3abea1b5ce564f70ac8fee56234da7eb",
       "version_major": 2,
       "version_minor": 0
      },
      "text/plain": [
       "  0%|          | 0/31 [00:00<?, ?it/s]"
      ]
     },
     "metadata": {},
     "output_type": "display_data"
    },
    {
     "name": "stdout",
     "output_type": "stream",
     "text": [
      "== RandomForestClassifier - bruteforce 1/2 ==\n",
      "Best model validation accuracy: 0.8211508553654744\n",
      "Best model params: RandomForestClassifier(max_depth=12, n_estimators=34, random_state=12345)\n",
      "12 34\n",
      "CPU times: user 21 s, sys: 51.6 ms, total: 21 s\n",
      "Wall time: 21 s\n"
     ]
    }
   ],
   "source": [
    "%%time\n",
    "best_model_rfc1 = None\n",
    "best_result = 0\n",
    "for est in tqdm(range(10,41)):\n",
    "    for dp in range(5,15):\n",
    "        model_rfc = RandomForestClassifier(random_state=12345,\n",
    "                            max_depth = dp,\n",
    "                            n_estimators = est)\n",
    "        model_rfc.fit(features_train, target_train) \n",
    "        result = model_rfc.score(features_valid, target_valid) \n",
    "        if result > best_result:\n",
    "            best_model_rfc1 = model_rfc \n",
    "            best_result = result                   \n",
    "            depth = dp\n",
    "            estimator = est\n",
    "            \n",
    "print('== RandomForestClassifier - bruteforce 1/2 ==')\n",
    "print(\"Best model validation accuracy:\", best_result)\n",
    "print(\"Best model params:\", best_model_rfc1)\n",
    "print(depth, estimator)   "
   ]
  },
  {
   "cell_type": "code",
   "execution_count": 32,
   "metadata": {},
   "outputs": [
    {
     "data": {
      "application/vnd.jupyter.widget-view+json": {
       "model_id": "42d468573524412d84ea8c169dad62a1",
       "version_major": 2,
       "version_minor": 0
      },
      "text/plain": [
       "  0%|          | 0/3 [00:00<?, ?it/s]"
      ]
     },
     "metadata": {},
     "output_type": "display_data"
    },
    {
     "name": "stdout",
     "output_type": "stream",
     "text": [
      "== RandomForestClassifier - bruteforce 2/2 ==\n",
      "Best model validation accuracy: 0.8258164852255054\n",
      "Best model params: RandomForestClassifier(max_depth=11, min_samples_leaf=8, n_estimators=35,\n",
      "                       random_state=12345)\n",
      "11 8 2 35 \n",
      "CPU times: user 32.7 s, sys: 127 ms, total: 32.8 s\n",
      "Wall time: 32.9 s\n"
     ]
    }
   ],
   "source": [
    "%%time\n",
    "best_params_out = best_params_in\n",
    "best_model_rfc2 = best_model_rfc1\n",
    "best_result = 0\n",
    "for est in tqdm(range(estimator-1,estimator+2)):\n",
    "    for dp in range(depth-1,depth+2):\n",
    "        for lf in range(5,15):\n",
    "            for splt in range(2,6):\n",
    "                model_rfc = RandomForestClassifier(random_state=12345,\n",
    "                                    max_depth = dp,\n",
    "                                    min_samples_leaf = lf,\n",
    "                                    min_samples_split = splt,\n",
    "                                    n_estimators = est)\n",
    "                model_rfc.fit(features_train, target_train) \n",
    "                result = model_rfc.score(features_valid, target_valid) \n",
    "                if result > best_result:\n",
    "                    best_model_rfc2 = model_rfc \n",
    "                    best_result = result                   \n",
    "                    best_params_out['max_depth'] = dp\n",
    "                    best_params_out['min_samples_leaf'] = lf\n",
    "                    best_params_out['min_samples_split'] = splt\n",
    "                    best_params_out['n_estimators'] = est\n",
    "            \n",
    "print('== RandomForestClassifier - bruteforce 2/2 ==')\n",
    "print(\"Best model validation accuracy:\", best_result)\n",
    "print(\"Best model params:\", best_model_rfc2)\n",
    "for value in best_params_out.values():\n",
    "    print(value, end=' ')\n",
    "print()"
   ]
  },
  {
   "cell_type": "markdown",
   "metadata": {},
   "source": [
    "<div class=\"alert alert-success\">\n",
    "<b>ОТЛИЧНО! 👍</b>\n",
    "\n",
    "Здесь отлично: подобрали для всех наших моделей лучшие гиперпараметры (в данном случае - максимизирующие метрику accuracy_score). Также здесь мы ещё и определили САМУЮ лучшую модель. На валидации ею оказалась модель \"случайного леса\". \n",
    "\n",
    "После того, как гиперпараметры на валидации подобраны - тестируем модели на тестовых данных. По результатам тестирования на тесте (сорри за тавталогию) выбираем модель, которую сможем передать в продакшн. \n",
    "</div>"
   ]
  },
  {
   "cell_type": "markdown",
   "metadata": {},
   "source": [
    "Наблюдение:\n",
    "- также не быстро (1 минута в сумме), но самая высокая точность - 0.8258164852255054\n",
    "- если убрать 'calls', итоговая точность та же, гиперпараметры другие\n",
    "- если убрать 'minutes', точность немного падает"
   ]
  },
  {
   "cell_type": "markdown",
   "metadata": {},
   "source": [
    "Вывод: Лучшая модель - случайный лес с двухэтапным перебором.\n",
    "\n",
    "Параметры:\n",
    "\n",
    "    Точность предикции : 0.8258164852255054\n",
    "    \n",
    "    'max_depth': 11,\n",
    "    'min_samples_leaf': 8,\n",
    "    'min_samples_split': 2,\n",
    "    'n_estimators': 35"
   ]
  },
  {
   "cell_type": "markdown",
   "metadata": {},
   "source": [
    "## Проверьте модель на тестовой выборке"
   ]
  },
  {
   "cell_type": "code",
   "execution_count": 33,
   "metadata": {},
   "outputs": [
    {
     "name": "stdout",
     "output_type": "stream",
     "text": [
      "== LogisticRegression ==\n",
      "Точность на тестовой выборке: 0.7107309486780715\n",
      "Матрица ошибок:\n",
      " [[438   8]\n",
      " [178  19]]\n"
     ]
    }
   ],
   "source": [
    "# LogicticRegression\n",
    "model = LogisticRegression(random_state=12345)\n",
    "model.fit(features_train, target_train)\n",
    "#model.fit(pd.concat([features_train, features_valid]), pd.concat([target_train, target_valid]))\n",
    "predictions = model.predict(features_test)\n",
    "result = accuracy_score(target_test, predictions)\n",
    "\n",
    "print('== LogisticRegression ==')\n",
    "print('Точность на тестовой выборке:', result)\n",
    "print('Матрица ошибок:\\n', confusion_matrix(target_test, predictions))"
   ]
  },
  {
   "cell_type": "code",
   "execution_count": 34,
   "metadata": {},
   "outputs": [
    {
     "name": "stdout",
     "output_type": "stream",
     "text": [
      "== DecisionTreeClassifier ==\n",
      "Точность на тестовой выборке: 0.8009331259720062\n",
      "Матрица ошибок:\n",
      " [[402  44]\n",
      " [ 84 113]]\n"
     ]
    }
   ],
   "source": [
    "# DecisionTreeClassifier\n",
    "model = DecisionTreeClassifier(random_state=12345, max_depth = best_depth_dtc+2)\n",
    "model.fit(features_train, target_train)\n",
    "#model.fit(pd.concat([features_train, features_valid]), pd.concat([target_train, target_valid])) \n",
    "predictions = model.predict(features_test)\n",
    "result = accuracy_score(target_test, predictions)\n",
    "\n",
    "print('== DecisionTreeClassifier ==')\n",
    "print('Точность на тестовой выборке:', result)\n",
    "print('Матрица ошибок:\\n', confusion_matrix(target_test, predictions))"
   ]
  },
  {
   "cell_type": "code",
   "execution_count": 35,
   "metadata": {},
   "outputs": [
    {
     "name": "stdout",
     "output_type": "stream",
     "text": [
      "== RandomForestClassifier ==\n",
      "Точность на тестовой выборке: 0.833592534992224\n",
      "Матрица ошибок:\n",
      " [[422  24]\n",
      " [ 83 114]]\n"
     ]
    }
   ],
   "source": [
    "# RandomForestClassifier\n",
    "model = RandomForestClassifier(random_state=12345,\n",
    "                               max_depth = best_params_out['max_depth'],\n",
    "                               min_samples_leaf = best_params_out['min_samples_leaf'],\n",
    "                               min_samples_split = best_params_out['min_samples_split'],\n",
    "                               n_estimators = best_params_out['n_estimators'])\n",
    "#model.fit(features_train, target_train)\n",
    "model.fit(pd.concat([features_train, features_valid]), pd.concat([target_train, target_valid])) \n",
    "predictions = model.predict(features_test)\n",
    "result = accuracy_score(target_test, predictions)\n",
    "\n",
    "print('== RandomForestClassifier ==')\n",
    "print('Точность на тестовой выборке:', result)\n",
    "print('Матрица ошибок:\\n', confusion_matrix(target_test, predictions))"
   ]
  },
  {
   "cell_type": "markdown",
   "metadata": {},
   "source": [
    "<div class=\"alert alert-success\">\n",
    "<b>ОТЛИЧНО! 👍</b>\n",
    "\n",
    "Здесь отлично: проверили \"качество\" наших моделей на тестовых данных и выбрали модель, которую можем запустить в эксплуатацию? Выбрали, верно?\n",
    "</div>"
   ]
  },
  {
   "cell_type": "markdown",
   "metadata": {},
   "source": [
    "<div style=\"background: #B0E0E6; padding: 5px; border: 1px solid SteelBlue; border-radius: 5px;\">\n",
    "    <font color='4682B4'><u><b>КОММЕНТАРИЙ СТУДЕНТА</b></u></font>\n",
    "    <br />\n",
    "    <font color='4682B4'>Добавил вывод</font>\n",
    "</div>"
   ]
  },
  {
   "cell_type": "markdown",
   "metadata": {},
   "source": [
    "Вывод:\n",
    "- выбираем для работы модель с лучшими показателями точности - RandomForestClassifier (0.833592534992224 на тестовой выборке)\n",
    "- если убрать 'calls', точность у модели RandomForestClassifier чуть-чуть растёт\n",
    "- при применении train+valid выборок для тренировки точность повышается только у \"леса\" "
   ]
  },
  {
   "cell_type": "markdown",
   "metadata": {},
   "source": [
    "## (бонус) Проверьте модели на адекватность"
   ]
  },
  {
   "cell_type": "markdown",
   "metadata": {},
   "source": [
    "<div class=\"alert alert-success\">\n",
    "<b>ОТЛИЧНО! 👍</b>\n",
    "\n",
    "Верно, здесь мы используем простейшую (dummy) модель: DummyClassifier (для нашей задачи бинарной классификации). DummyClassifier \"предсказывает\" наиболее часто встречающийся класс. Здесь мы получаем контрольную accuracy, чтобы сравнить её с результатом работы нашей самой лучшей модели. Ну и конечно, из общих соображений понятно, что наша лучшая модель должна \"побить\" DummyClassifier.\n",
    "    \n",
    "p.s. (на перспективу!): можно было бы построить Confusion Matrix, чтобы детально посмотреть где ошибается модель. Подробнее о Confusion Matrix здесь: https://neptune.ai/blog/evaluation-metrics-binary-classification     \n",
    "\n",
    "p.s. ещё вариант (его ты тоже используешь!) - сравнить самый часто встречающийся класс в наших данных (это is_ultra == 0). Таких значений 2.229 в нашем датафрейме. Всего же значений в датафрейме 3.214. Значит самый часто встречающийся класс \"занимает\" 69% (2229 / 3214 == 0.693528313627878). Вот мы и получили контрольные данные для сравнительной оценки, построенной нами \"лучшей\" модели. Наша лучшая модель должна \"побить\" этот скор.\n",
    "</div>\n"
   ]
  },
  {
   "cell_type": "markdown",
   "metadata": {},
   "source": [
    "<div style=\"background: #B0E0E6; padding: 5px; border: 1px solid SteelBlue; border-radius: 5px;\">\n",
    "    <font color='4682B4'><u><b>КОММЕНТАРИЙ СТУДЕНТА</b></u></font>\n",
    "    <br />\n",
    "    <font color='4682B4'>Добавил confusion_matrix</font>\n",
    "</div>"
   ]
  },
  {
   "cell_type": "code",
   "execution_count": 36,
   "metadata": {},
   "outputs": [
    {
     "name": "stdout",
     "output_type": "stream",
     "text": [
      "Количество нулей и единиц:\n",
      "0    446\n",
      "1    197\n",
      "Name: is_ultra, dtype: int64\n",
      "\n",
      "Доля нулей и единиц:\n",
      "0    0.693624\n",
      "1    0.306376\n",
      "Name: is_ultra, dtype: float64\n",
      "\n"
     ]
    }
   ],
   "source": [
    "# Состав тестовой выборки\n",
    "print('Количество нулей и единиц:\\n', target_test.value_counts(), '\\n', sep='')\n",
    "print('Доля нулей и единиц:\\n', target_test.value_counts(normalize=True), sep='')\n",
    "print()"
   ]
  },
  {
   "cell_type": "markdown",
   "metadata": {},
   "source": [
    "Для проверки адекватности модели данных используем эталонный простой независимый от входных выборок классификатор DummyClassifier."
   ]
  },
  {
   "cell_type": "code",
   "execution_count": 37,
   "metadata": {},
   "outputs": [
    {
     "name": "stdout",
     "output_type": "stream",
     "text": [
      "== DummyClassifier (strategy \"most_frequent\") ==\n",
      "Точность на тестовой выборке: 0.6936236391912908\n",
      "Матрица ошибок:\n",
      " [[446   0]\n",
      " [197   0]]\n",
      "\n",
      "== DummyClassifier (strategy \"prior\") ==\n",
      "Точность на тестовой выборке: 0.6936236391912908\n",
      "Матрица ошибок:\n",
      " [[446   0]\n",
      " [197   0]]\n",
      "\n",
      "== DummyClassifier (strategy \"stratified\") ==\n",
      "Точность на тестовой выборке: 0.5972006220839814\n",
      "Матрица ошибок:\n",
      " [[320 126]\n",
      " [133  64]]\n",
      "\n",
      "== DummyClassifier (strategy \"uniform\") ==\n",
      "Точность на тестовой выборке: 0.5225505443234837\n",
      "Матрица ошибок:\n",
      " [[231 215]\n",
      " [ 92 105]]\n",
      "\n",
      "== DummyClassifier (strategy \"constant\") ==\n",
      "Точность на тестовой выборке: 0.6936236391912908\n",
      "Матрица ошибок:\n",
      " [[446   0]\n",
      " [197   0]]\n",
      "\n"
     ]
    }
   ],
   "source": [
    "# Возможные стратегии предикции\n",
    "strategies = ['most_frequent', 'prior', 'stratified', 'uniform', 'constant']\n",
    "for strategy in strategies:\n",
    "    model_dc = DummyClassifier(strategy=strategy, random_state=100, constant=0)\n",
    "    model_dc.fit(features_train, target_train)\n",
    "    predictions = model_dc.predict(features_test)\n",
    "    print(f'== DummyClassifier (strategy \"{strategy}\") ==')\n",
    "    print('Точность на тестовой выборке:', accuracy_score(target_test, predictions))\n",
    "    print('Матрица ошибок:\\n', confusion_matrix(target_test, predictions))\n",
    "    print()"
   ]
  },
  {
   "cell_type": "markdown",
   "metadata": {},
   "source": [
    "Наблюдения:\n",
    "- \"нули посчитаны\" правильно моделью DummyClassifier при стратегиях \"most_frequent\", \"prior\", \"constant\". Для последней надо задать правильную константу "
   ]
  },
  {
   "cell_type": "markdown",
   "metadata": {},
   "source": [
    "## Общий вывод"
   ]
  },
  {
   "cell_type": "markdown",
   "metadata": {},
   "source": [
    "- предоставлены данные с выполненной предобработкой\n",
    "- исследованы модели Logistic Regression, DecisionTreeClassifier, RandomForestClassifier\n",
    "- наилучший результат у модели RandomForestClassifier при двойном переборе:\n",
    "    - точность предикции - 0.8258164852255054\n",
    "    - гиперпараметры:\n",
    "        - max_depth - 11\n",
    "        - min_samples_leaf - 8\n",
    "        - min_samples_split - 2\n",
    "        - n_estimators - 35\n",
    "- модель LogisticRegression и модели DecisionTreeClassifier, RandomForestClassifier с лучшими гиперпараметрами проверены на тестовой выборке:\n",
    "    - модель LogisticRegression. Точность предикции - 0.7107309486780715\n",
    "    - модель DecisionTreeClassifier. Точность предикции - 0.8009331259720062\n",
    "    - модель RandomForestClassifier. Точность предикции - 0.833592534992224\n",
    "- модели проверены на адекватность при помощи:\n",
    "    - модель DummyClassifier. Точность предикции - 0.6936236391912908\n",
    "\n",
    "ИТОГ: модель RandomForestClassifier с найденными гиперпараметрами можно запускать в работу"
   ]
  },
  {
   "cell_type": "markdown",
   "metadata": {},
   "source": [
    "<div class=\"alert alert-success\">\n",
    "<b>ОТЛИЧНО! 👍</b>\n",
    "\n",
    "Всё отлично, результат достигнут.\n",
    "    \n",
    "Один совет (также, на будущее): как попытаться улучшить полученный результат, с минимум усилий? Ответ: мы использовали train для обучения модели, а valid - для поиска лучших значений гиперпараметров. Лучшие параметры нашли. Так почему бы теперь наши модели с выбранными гиперпараметрами не обучить на *общей* (тренировочной + валидационной) выборке (pd.concat() можно использовать для объединения). Чем больше данных, тем *лучше* модели смогут обучиться (надо проверять!). И вот теперь эту дообученную модель мы уже финально проверим на тестовой выборке (test).\n",
    "\n",
    "Но следует учесть вот какой момент: нужно быть аккуратным с подобным «улучшением», если мы кодируем или масштабируем наши выборки. Например, в следующем проекте мы обучаемся на train’е, а затем делаем transform на валидации и тесте. Если после этого объединить трейн и валид, то это будет не совсем верно.\n",
    "\n",
    "p.s. а вообще, достижение высокого скора не такая простая задача. Много моментов может влиять (подбор гиперпараметров - всего лишь один из них). В этой конкретно задаче мне кажется, что данных маловато, а также, возможно и фичей (столбцов в наших данных). Из-за этого модели не могут точно \"настроиться на данные\".\n",
    "</div>"
   ]
  },
  {
   "cell_type": "markdown",
   "metadata": {},
   "source": [
    "<div style=\"background: #B0E0E6; padding: 5px; border: 1px solid SteelBlue; border-radius: 5px;\">\n",
    "    <font color='4682B4'><u><b>КОММЕНТАРИЙ СТУДЕНТА</b></u></font>\n",
    "    <br />\n",
    "    <font color='4682B4'>Применил</font>\n",
    "</div>"
   ]
  },
  {
   "cell_type": "markdown",
   "metadata": {},
   "source": [
    "#### **ПРИЛОЖЕНИЕ**"
   ]
  },
  {
   "cell_type": "markdown",
   "metadata": {},
   "source": [
    "Указанные выше выводы сделаны в результате следующих проделанных действий (кратко):"
   ]
  },
  {
   "cell_type": "markdown",
   "metadata": {},
   "source": [
    "**Краткое описание:**\n",
    "\n",
    "    - файл данных: 'https://code.s3.yandex.net/datasets/users_behavior.csv'\n",
    "    - в качестве разделителя в csv файле применён знак табуляции (',')\n",
    "    - размерность: 5 столбцов на 3214 строк\n",
    "    - типы данных: float64(4), int64(1)\n",
    "\n",
    "**Описание типов и распределеления данных:**\n",
    "\n",
    "\t- calls      — [float64] — близко к нормальному положительное распределению. Сходен с minutes\n",
    "\t- minutes    — [float64] — близко к нормальному положительное распределению. Сходен с calls\n",
    "\t- messages   — [float64] — положительное распределение\n",
    "\t- mb_used    — [float64] — близко к нормальному положительное распределению\n",
    "\t- is_ultra   — [int64]   — всего два уникальных значения. Логичнее тип [bool]\n",
    "    \n",
    "**Пропуски, аномалии, дубликаты:**\n",
    "\n",
    "- количество пропусков: 0\n",
    "- количество аномальных значений: 0    \n",
    "- количество дубликатов:\n",
    "    - calls: 3030/3214\n",
    "    - minutes: 70/3214\n",
    "    - messages: 3034/3214\n",
    "    - mb_used: 11/3214\n",
    "    - is_ultra: 3212/3214\n",
    "    \n",
    "**Прочее**:\n",
    "- у столбцов calls и minutes очень сильная положительная корреляция (почти 0.98)\n",
    "\n",
    "**Добавлено типов данных:**\n",
    "   - нет\n",
    "\n",
    "**Категоризация данных:**\n",
    "   - нет\n",
    "\n",
    "**Проверка гипотез:**\n",
    "   - их не было\n",
    "\n",
    "**Итоговая структура данных:**\n",
    "   - без изменений\n",
    " \n",
    "**Общий вывод**\n",
    "\n",
    "**Трудоёмкость:**\n",
    "   - на выполнение работы затрачено полных 3 дня без перерыров\n",
    "   - дополнительно 0.25 дня на исправление замечаний после ревью №1"
   ]
  },
  {
   "cell_type": "markdown",
   "metadata": {},
   "source": [
    "## Чек-лист готовности проекта"
   ]
  },
  {
   "cell_type": "markdown",
   "metadata": {},
   "source": [
    "Поставьте 'x' в выполненных пунктах. Далее нажмите Shift+Enter."
   ]
  },
  {
   "cell_type": "markdown",
   "metadata": {},
   "source": [
    "- [x] Jupyter Notebook открыт\n",
    "- [x] Весь код исполняется без ошибок\n",
    "- [x] Ячейки с кодом расположены в порядке исполнения\n",
    "- [x] Выполнено задание 1: данные загружены и изучены\n",
    "- [x] Выполнено задание 2: данные разбиты на три выборки\n",
    "- [x] Выполнено задание 3: проведено исследование моделей\n",
    "    - [x] Рассмотрено больше одной модели\n",
    "    - [x] Рассмотрено хотя бы 3 значения гипепараметров для какой-нибудь модели\n",
    "    - [x] Написаны выводы по результатам исследования\n",
    "- [x] Выполнено задание 3: Проведено тестирование\n",
    "- [x] Удалось достичь accuracy не меньше 0.75\n"
   ]
  },
  {
   "cell_type": "markdown",
   "metadata": {},
   "source": [
    "<div class=\"alert alert-success\">\n",
    "<b>ОТЛИЧНО! 👍</b>\n",
    "\n",
    "Олег, у тебя хорошая работа, все четко, осмысленно. Выводы присутствуют, с комментированием кода тоже никаких проблем нет.\n",
    "\n",
    "Я оставил ряд советов на будущее (на результат этого проекта они не влияют). \n",
    "\n",
    "Я отправляю тебе проект ещё раз лишь для того, чтобы удостовериться что у тебя нет вопросов ко мне. Если их нет - пошли мне тетрадку ещё раз, и я тут же, без слов приму твою работу! \n",
    "</div>\n"
   ]
  },
  {
   "cell_type": "markdown",
   "metadata": {},
   "source": [
    "<div style=\"background: #B0E0E6; padding: 5px; border: 1px solid SteelBlue; border-radius: 5px;\">\n",
    "    <font color='4682B4'><u><b>КОММЕНТАРИЙ СТУДЕНТА</b></u></font>\n",
    "    <br />\n",
    "    <font color='4682B4'>Кое-что доработал. Спасибо, Александр!</font>\n",
    "</div>"
   ]
  },
  {
   "cell_type": "code",
   "execution_count": null,
   "metadata": {},
   "outputs": [],
   "source": []
  }
 ],
 "metadata": {
  "ExecuteTimeLog": [
   {
    "duration": 4,
    "start_time": "2023-04-12T17:19:27.580Z"
   },
   {
    "duration": 9,
    "start_time": "2023-04-12T17:19:27.586Z"
   },
   {
    "duration": 4,
    "start_time": "2023-04-12T17:19:27.597Z"
   },
   {
    "duration": 7,
    "start_time": "2023-04-12T17:19:27.602Z"
   },
   {
    "duration": 5,
    "start_time": "2023-04-12T17:19:27.614Z"
   },
   {
    "duration": 7,
    "start_time": "2023-04-12T17:19:27.625Z"
   },
   {
    "duration": 12,
    "start_time": "2023-04-12T17:19:27.639Z"
   },
   {
    "duration": 1764,
    "start_time": "2023-04-12T17:19:27.653Z"
   },
   {
    "duration": 10,
    "start_time": "2023-04-12T17:19:29.420Z"
   },
   {
    "duration": 83,
    "start_time": "2023-04-12T17:19:29.433Z"
   },
   {
    "duration": 53,
    "start_time": "2023-04-12T17:19:29.518Z"
   },
   {
    "duration": 16,
    "start_time": "2023-04-12T17:19:29.572Z"
   },
   {
    "duration": 103,
    "start_time": "2023-04-12T17:19:29.590Z"
   },
   {
    "duration": 33,
    "start_time": "2023-04-12T17:19:29.695Z"
   },
   {
    "duration": 16,
    "start_time": "2023-04-12T17:19:29.730Z"
   },
   {
    "duration": 4,
    "start_time": "2023-04-12T17:19:29.749Z"
   },
   {
    "duration": 6,
    "start_time": "2023-04-12T17:19:29.754Z"
   },
   {
    "duration": 36,
    "start_time": "2023-04-12T17:19:29.762Z"
   },
   {
    "duration": 248,
    "start_time": "2023-04-12T17:19:29.800Z"
   },
   {
    "duration": 54440,
    "start_time": "2023-04-12T17:19:30.050Z"
   },
   {
    "duration": 3,
    "start_time": "2023-04-12T17:20:24.492Z"
   },
   {
    "duration": 23,
    "start_time": "2023-04-12T17:20:24.497Z"
   },
   {
    "duration": 6,
    "start_time": "2023-04-12T17:20:24.528Z"
   },
   {
    "duration": 83,
    "start_time": "2023-04-12T17:20:24.536Z"
   },
   {
    "duration": 50814,
    "start_time": "2023-04-12T17:20:24.621Z"
   },
   {
    "duration": 29234,
    "start_time": "2023-04-12T17:21:15.445Z"
   },
   {
    "duration": 48997,
    "start_time": "2023-04-12T17:21:44.681Z"
   },
   {
    "duration": 60,
    "start_time": "2023-04-12T17:22:33.680Z"
   },
   {
    "duration": 15,
    "start_time": "2023-04-12T17:22:33.745Z"
   },
   {
    "duration": 171,
    "start_time": "2023-04-12T17:22:33.763Z"
   },
   {
    "duration": 18,
    "start_time": "2023-04-12T17:22:33.936Z"
   },
   {
    "duration": 14,
    "start_time": "2023-04-12T17:22:33.956Z"
   },
   {
    "duration": 3,
    "start_time": "2023-04-12T17:33:04.886Z"
   },
   {
    "duration": 9,
    "start_time": "2023-04-12T17:33:04.891Z"
   },
   {
    "duration": 34,
    "start_time": "2023-04-12T17:33:04.901Z"
   },
   {
    "duration": 7,
    "start_time": "2023-04-12T17:33:04.936Z"
   },
   {
    "duration": 6,
    "start_time": "2023-04-12T17:33:04.945Z"
   },
   {
    "duration": 4,
    "start_time": "2023-04-12T17:33:04.953Z"
   },
   {
    "duration": 8,
    "start_time": "2023-04-12T17:33:04.959Z"
   },
   {
    "duration": 2316,
    "start_time": "2023-04-12T17:33:04.969Z"
   },
   {
    "duration": 3,
    "start_time": "2023-04-12T17:33:07.286Z"
   },
   {
    "duration": 113,
    "start_time": "2023-04-12T17:33:07.291Z"
   },
   {
    "duration": 45,
    "start_time": "2023-04-12T17:33:07.406Z"
   },
   {
    "duration": 12,
    "start_time": "2023-04-12T17:33:07.453Z"
   },
   {
    "duration": 66,
    "start_time": "2023-04-12T17:33:07.467Z"
   },
   {
    "duration": 59,
    "start_time": "2023-04-12T17:33:07.535Z"
   },
   {
    "duration": 10,
    "start_time": "2023-04-12T17:33:07.596Z"
   },
   {
    "duration": 8,
    "start_time": "2023-04-12T17:33:07.607Z"
   },
   {
    "duration": 6,
    "start_time": "2023-04-12T17:33:07.617Z"
   },
   {
    "duration": 47,
    "start_time": "2023-04-12T17:33:07.624Z"
   },
   {
    "duration": 205,
    "start_time": "2023-04-12T17:33:07.673Z"
   },
   {
    "duration": 42045,
    "start_time": "2023-04-12T17:33:07.881Z"
   },
   {
    "duration": 2,
    "start_time": "2023-04-12T17:33:49.928Z"
   },
   {
    "duration": 5,
    "start_time": "2023-04-12T17:33:49.932Z"
   },
   {
    "duration": 16,
    "start_time": "2023-04-12T17:33:49.939Z"
   },
   {
    "duration": 64,
    "start_time": "2023-04-12T17:33:49.957Z"
   },
   {
    "duration": 24066,
    "start_time": "2023-04-12T17:33:50.022Z"
   },
   {
    "duration": 25225,
    "start_time": "2023-04-12T17:34:14.090Z"
   },
   {
    "duration": 42073,
    "start_time": "2023-04-12T17:34:39.316Z"
   },
   {
    "duration": 44,
    "start_time": "2023-04-12T17:35:21.391Z"
   },
   {
    "duration": 29,
    "start_time": "2023-04-12T17:35:21.437Z"
   },
   {
    "duration": 129,
    "start_time": "2023-04-12T17:35:21.467Z"
   },
   {
    "duration": 7,
    "start_time": "2023-04-12T17:35:21.598Z"
   },
   {
    "duration": 11,
    "start_time": "2023-04-12T17:35:21.607Z"
   },
   {
    "duration": 7,
    "start_time": "2023-04-12T18:16:38.336Z"
   },
   {
    "duration": 712,
    "start_time": "2023-04-12T18:17:56.436Z"
   },
   {
    "duration": 151,
    "start_time": "2023-04-12T18:18:52.812Z"
   },
   {
    "duration": 63,
    "start_time": "2023-04-12T18:21:14.406Z"
   },
   {
    "duration": 903,
    "start_time": "2023-04-12T18:21:24.727Z"
   },
   {
    "duration": 72,
    "start_time": "2023-04-12T18:22:21.600Z"
   },
   {
    "duration": 13,
    "start_time": "2023-04-12T18:22:34.477Z"
   }
  ],
  "kernelspec": {
   "display_name": "Python 3 (ipykernel)",
   "language": "python",
   "name": "python3"
  },
  "language_info": {
   "codemirror_mode": {
    "name": "ipython",
    "version": 3
   },
   "file_extension": ".py",
   "mimetype": "text/x-python",
   "name": "python",
   "nbconvert_exporter": "python",
   "pygments_lexer": "ipython3",
   "version": "3.9.15"
  },
  "toc": {
   "base_numbering": 1,
   "nav_menu": {},
   "number_sections": true,
   "sideBar": true,
   "skip_h1_title": true,
   "title_cell": "Table of Contents",
   "title_sidebar": "Contents",
   "toc_cell": false,
   "toc_position": {
    "height": "calc(100% - 180px)",
    "left": "10px",
    "top": "150px",
    "width": "263.15px"
   },
   "toc_section_display": true,
   "toc_window_display": true
  }
 },
 "nbformat": 4,
 "nbformat_minor": 2
}
